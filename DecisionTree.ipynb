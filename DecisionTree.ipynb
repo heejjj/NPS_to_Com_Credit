{
 "cells": [
  {
   "cell_type": "code",
   "execution_count": 152,
   "id": "f33569bb-2d52-40ce-8bf5-0ea15b678ea3",
   "metadata": {},
   "outputs": [],
   "source": [
    "import pandas as pd\n",
    "import numpy as np\n",
    "import matplotlib.pyplot as plt\n",
    "import seaborn as sns\n",
    "import warnings\n",
    "\n",
    "\n",
    "warnings.filterwarnings('ignore')\n",
    "plt.rc(\"font\",family=\"Malgun Gothic\")\n",
    "plt.rc(\"axes\",unicode_minus=False)\n",
    "plt.style.use(\"fivethirtyeight\") \n",
    "plt.rcParams['figure.figsize'] = (10, 7)\n",
    "\n",
    "pd.set_option('display.float_format', lambda x: '%.2f' % x)\n",
    "\n",
    "%matplotlib inline"
   ]
  },
  {
   "cell_type": "code",
   "execution_count": 3,
   "id": "dcfe35f6-98da-414e-922a-e2d0f24b8490",
   "metadata": {
    "tags": []
   },
   "outputs": [],
   "source": [
    "df1 = pd.read_csv('국민연금 가입 사업장 내역 1월.csv',encoding='cp949')\n",
    "df2 = pd.read_csv('국민연금 가입 사업장 내역 2월.csv',encoding='cp949')\n",
    "df3 = pd.read_csv('국민연금 가입 사업장 내역 3월.csv',encoding='cp949')\n",
    "df4 = pd.read_csv('국민연금 가입 사업장 내역 4월.csv',encoding='cp949')\n",
    "df5 = pd.read_csv('국민연금 가입 사업장 내역 5월.csv',encoding='cp949')\n",
    "df6 = pd.read_csv('국민연금 가입 사업장 내역 6월.csv',encoding='cp949')\n",
    "df7 = pd.read_csv('국민연금 가입 사업장 내역 7월.csv',encoding='cp949')\n",
    "df8 = pd.read_csv('국민연금 가입 사업장 내역 8월.csv',encoding='cp949')\n",
    "df9 = pd.read_csv('국민연금 가입 사업장 내역 9월.csv',encoding='cp949')\n",
    "df10 = pd.read_csv('국민연금 가입 사업장 내역 10월.csv',encoding='cp949')"
   ]
  },
  {
   "cell_type": "code",
   "execution_count": 4,
   "id": "8061a1c4-bd2f-421c-98c2-1a86665e1063",
   "metadata": {},
   "outputs": [],
   "source": [
    "df = pd.concat([df1,df2,df3,df4,df5,df6,df7,df8,df9,df10], axis=0)"
   ]
  },
  {
   "cell_type": "code",
   "execution_count": 5,
   "id": "a4f1ab5c-ddc8-4510-af81-237049f37cf2",
   "metadata": {
    "tags": []
   },
   "outputs": [
    {
     "data": {
      "text/plain": [
       "Index(['자료생성년월', ' 사업장명', ' 사업자등록번호', ' 사업장가입상태코드 1 등록 2 탈퇴', ' 우편번호',\n",
       "       ' 사업장지번상세주소', ' 사업장도로명상세주소', ' 고객법정동주소코드', ' 고객행정동주소코드', ' 법정동주소광역시도코드',\n",
       "       ' 법정동주소광역시시군구코드', ' 법정동주소광역시시군구읍면동코드', ' 사업장형태구분코드 1 법인 2 개인',\n",
       "       ' 사업장업종코드', ' 사업장업종코드명', ' 적용일자', ' 재등록일자', ' 탈퇴일자', ' 가입자수', ' 당월고지금액',\n",
       "       ' 신규취득자수', ' 상실가입자수'],\n",
       "      dtype='object')"
      ]
     },
     "execution_count": 5,
     "metadata": {},
     "output_type": "execute_result"
    }
   ],
   "source": [
    "df.columns"
   ]
  },
  {
   "cell_type": "code",
   "execution_count": 6,
   "id": "049865f7-0946-4bc7-b176-ebcc9eef10be",
   "metadata": {},
   "outputs": [],
   "source": [
    "columns = ['자료생성년월', '사업장명', '사업자번호', '가입상태', '우편번호', '지번주소', '도로명주소', '법정주소코드', \n",
    "           '행정주소코드', '광역시코드', '시군구코드', '읍면동코드', '사업장형태', '업종코드', '업종코드명', \n",
    "           '적용일', '재등록일', '탈퇴일', '가입자수', '고지금액', '신규', '상실']"
   ]
  },
  {
   "cell_type": "code",
   "execution_count": 7,
   "id": "0692e2b2-d9c5-4886-a225-b6ae9ed2f80e",
   "metadata": {},
   "outputs": [
    {
     "data": {
      "text/plain": [
       "22"
      ]
     },
     "execution_count": 7,
     "metadata": {},
     "output_type": "execute_result"
    }
   ],
   "source": [
    "len(df.columns)"
   ]
  },
  {
   "cell_type": "code",
   "execution_count": 8,
   "id": "98865656-0b9e-48aa-8724-7b2585edad65",
   "metadata": {},
   "outputs": [
    {
     "data": {
      "text/plain": [
       "22"
      ]
     },
     "execution_count": 8,
     "metadata": {},
     "output_type": "execute_result"
    }
   ],
   "source": [
    "len(columns)"
   ]
  },
  {
   "cell_type": "code",
   "execution_count": 9,
   "id": "7cfaa677-1e66-46b7-9097-f9bd67160d97",
   "metadata": {},
   "outputs": [],
   "source": [
    "df.columns = columns"
   ]
  },
  {
   "cell_type": "code",
   "execution_count": 10,
   "id": "529739bc-bde0-42ef-9e4b-3866e03b06b0",
   "metadata": {},
   "outputs": [],
   "source": [
    "df = df.drop(columns=['우편번호', '지번주소', '법정주소코드', '행정주소코드', '광역시코드', '시군구코드', '읍면동코드', \n",
    "                      '사업장형태', '업종코드', '적용일', '재등록일', '탈퇴일'])"
   ]
  },
  {
   "cell_type": "code",
   "execution_count": 11,
   "id": "a1cbfcf5-e9af-4e5e-947f-acec824681f6",
   "metadata": {},
   "outputs": [
    {
     "data": {
      "text/plain": [
       "Aug-22     549858\n",
       "2022-07    548443\n",
       "2022-01    547709\n",
       "Sep-22     546959\n",
       "Oct-22     546814\n",
       "2022-06    545722\n",
       "2022-05    544122\n",
       "2022-02    543183\n",
       "2022-04    542537\n",
       "2022-03    533986\n",
       "Name: 자료생성년월, dtype: int64"
      ]
     },
     "execution_count": 11,
     "metadata": {},
     "output_type": "execute_result"
    }
   ],
   "source": [
    "df['자료생성년월'].value_counts()"
   ]
  },
  {
   "cell_type": "code",
   "execution_count": 12,
   "id": "01b547f6-d03e-4309-9069-26d5c7941e0e",
   "metadata": {},
   "outputs": [],
   "source": [
    "df['자료생성년월'] = df['자료생성년월'].replace(['2022-01','2022-02','2022-03','2022-04','2022-05','2022-06','2022-07',\n",
    "                      'Aug-22','Sep-22','Oct-22'],[1,2,3,4,5,6,7,8,9,10])"
   ]
  },
  {
   "cell_type": "code",
   "execution_count": 13,
   "id": "05076ded-e743-4710-86a2-6f81336fc05d",
   "metadata": {},
   "outputs": [],
   "source": [
    "df = df.loc[df['가입상태'] != 2]\n",
    "df = df.loc[df['고지금액'] != 0]"
   ]
  },
  {
   "cell_type": "code",
   "execution_count": 14,
   "id": "5e7b1046-0377-4ff6-80c8-b4204f5c968a",
   "metadata": {},
   "outputs": [],
   "source": [
    "df = df.drop(columns = '가입상태')"
   ]
  },
  {
   "cell_type": "code",
   "execution_count": 15,
   "id": "1d8a3764-1a27-4ec8-89d4-5af4e6fd7013",
   "metadata": {},
   "outputs": [
    {
     "data": {
      "text/html": [
       "<div>\n",
       "<style scoped>\n",
       "    .dataframe tbody tr th:only-of-type {\n",
       "        vertical-align: middle;\n",
       "    }\n",
       "\n",
       "    .dataframe tbody tr th {\n",
       "        vertical-align: top;\n",
       "    }\n",
       "\n",
       "    .dataframe thead th {\n",
       "        text-align: right;\n",
       "    }\n",
       "</style>\n",
       "<table border=\"1\" class=\"dataframe\">\n",
       "  <thead>\n",
       "    <tr style=\"text-align: right;\">\n",
       "      <th></th>\n",
       "      <th>자료생성년월</th>\n",
       "      <th>사업장명</th>\n",
       "      <th>사업자번호</th>\n",
       "      <th>도로명주소</th>\n",
       "      <th>업종코드명</th>\n",
       "      <th>가입자수</th>\n",
       "      <th>고지금액</th>\n",
       "      <th>신규</th>\n",
       "      <th>상실</th>\n",
       "    </tr>\n",
       "  </thead>\n",
       "  <tbody>\n",
       "    <tr>\n",
       "      <th>0</th>\n",
       "      <td>1</td>\n",
       "      <td>(주)니프코코리아</td>\n",
       "      <td>211814</td>\n",
       "      <td>충청남도 아산시 둔포면 아산밸리남로</td>\n",
       "      <td>포장용 플라스틱 성형용기 제조업</td>\n",
       "      <td>597</td>\n",
       "      <td>268966860</td>\n",
       "      <td>1</td>\n",
       "      <td>6</td>\n",
       "    </tr>\n",
       "    <tr>\n",
       "      <th>1</th>\n",
       "      <td>1</td>\n",
       "      <td>글로웨이 주식회사</td>\n",
       "      <td>110812</td>\n",
       "      <td>서울특별시 강남구 영동대로137길</td>\n",
       "      <td>미장  타일 및 방수 공사업</td>\n",
       "      <td>3</td>\n",
       "      <td>1265560</td>\n",
       "      <td>0</td>\n",
       "      <td>0</td>\n",
       "    </tr>\n",
       "    <tr>\n",
       "      <th>2</th>\n",
       "      <td>1</td>\n",
       "      <td>신일기업(주)</td>\n",
       "      <td>201810</td>\n",
       "      <td>서울특별시 중구 퇴계로</td>\n",
       "      <td>기타</td>\n",
       "      <td>18</td>\n",
       "      <td>5879100</td>\n",
       "      <td>0</td>\n",
       "      <td>0</td>\n",
       "    </tr>\n",
       "    <tr>\n",
       "      <th>3</th>\n",
       "      <td>1</td>\n",
       "      <td>디에스디엘(주)</td>\n",
       "      <td>104811</td>\n",
       "      <td>서울특별시 중구 세종대로</td>\n",
       "      <td>비주거용 건물 임대업(점포  자기땅)</td>\n",
       "      <td>17</td>\n",
       "      <td>4330100</td>\n",
       "      <td>0</td>\n",
       "      <td>0</td>\n",
       "    </tr>\n",
       "    <tr>\n",
       "      <th>4</th>\n",
       "      <td>1</td>\n",
       "      <td>(주)헤럴드</td>\n",
       "      <td>104810</td>\n",
       "      <td>서울특별시 용산구 후암로4길</td>\n",
       "      <td>잡지 및 정기 간행물 발행업</td>\n",
       "      <td>314</td>\n",
       "      <td>119581820</td>\n",
       "      <td>4</td>\n",
       "      <td>4</td>\n",
       "    </tr>\n",
       "  </tbody>\n",
       "</table>\n",
       "</div>"
      ],
      "text/plain": [
       "   자료생성년월       사업장명   사업자번호                도로명주소                 업종코드명  가입자수  \\\n",
       "0       1  (주)니프코코리아  211814  충청남도 아산시 둔포면 아산밸리남로     포장용 플라스틱 성형용기 제조업   597   \n",
       "1       1  글로웨이 주식회사  110812   서울특별시 강남구 영동대로137길       미장  타일 및 방수 공사업     3   \n",
       "2       1    신일기업(주)  201810         서울특별시 중구 퇴계로                    기타    18   \n",
       "3       1   디에스디엘(주)  104811        서울특별시 중구 세종대로  비주거용 건물 임대업(점포  자기땅)    17   \n",
       "4       1     (주)헤럴드  104810      서울특별시 용산구 후암로4길       잡지 및 정기 간행물 발행업   314   \n",
       "\n",
       "        고지금액  신규  상실  \n",
       "0  268966860   1   6  \n",
       "1    1265560   0   0  \n",
       "2    5879100   0   0  \n",
       "3    4330100   0   0  \n",
       "4  119581820   4   4  "
      ]
     },
     "execution_count": 15,
     "metadata": {},
     "output_type": "execute_result"
    }
   ],
   "source": [
    "df['업종코드명'] = df['업종코드명'].fillna('기타')\n",
    "df.head()"
   ]
  },
  {
   "cell_type": "code",
   "execution_count": 16,
   "id": "8b72cd66-6823-4087-91c0-77e50aad6343",
   "metadata": {},
   "outputs": [],
   "source": [
    "df_idx = df.groupby(['사업장명','사업자번호','도로명주소','업종코드명']).count()"
   ]
  },
  {
   "cell_type": "code",
   "execution_count": 17,
   "id": "94d8b640-4857-47b2-8db5-ee231d1a5a9b",
   "metadata": {},
   "outputs": [
    {
     "data": {
      "text/html": [
       "<div>\n",
       "<style scoped>\n",
       "    .dataframe tbody tr th:only-of-type {\n",
       "        vertical-align: middle;\n",
       "    }\n",
       "\n",
       "    .dataframe tbody tr th {\n",
       "        vertical-align: top;\n",
       "    }\n",
       "\n",
       "    .dataframe thead th {\n",
       "        text-align: right;\n",
       "    }\n",
       "</style>\n",
       "<table border=\"1\" class=\"dataframe\">\n",
       "  <thead>\n",
       "    <tr style=\"text-align: right;\">\n",
       "      <th></th>\n",
       "      <th></th>\n",
       "      <th></th>\n",
       "      <th></th>\n",
       "      <th>자료생성년월</th>\n",
       "      <th>가입자수</th>\n",
       "      <th>고지금액</th>\n",
       "      <th>신규</th>\n",
       "      <th>상실</th>\n",
       "    </tr>\n",
       "    <tr>\n",
       "      <th>사업장명</th>\n",
       "      <th>사업자번호</th>\n",
       "      <th>도로명주소</th>\n",
       "      <th>업종코드명</th>\n",
       "      <th></th>\n",
       "      <th></th>\n",
       "      <th></th>\n",
       "      <th></th>\n",
       "      <th></th>\n",
       "    </tr>\n",
       "  </thead>\n",
       "  <tbody>\n",
       "    <tr>\n",
       "      <th>(One+)용인동천노인복지센터</th>\n",
       "      <th>142826</th>\n",
       "      <th>경기도 용인시 수지구 동천로</th>\n",
       "      <th>기타</th>\n",
       "      <td>10</td>\n",
       "      <td>10</td>\n",
       "      <td>10</td>\n",
       "      <td>10</td>\n",
       "      <td>10</td>\n",
       "    </tr>\n",
       "    <tr>\n",
       "      <th>(유)  성우이앤씨/일용/인천공항T2장기주차빌딩A등12동시설공사(PKG1)중 파일공사(A구역)-본공사</th>\n",
       "      <th>401812</th>\n",
       "      <th>인천광역시 중구 제2터미널대로</th>\n",
       "      <th>유리 및 창호 공사업</th>\n",
       "      <td>1</td>\n",
       "      <td>1</td>\n",
       "      <td>1</td>\n",
       "      <td>1</td>\n",
       "      <td>1</td>\n",
       "    </tr>\n",
       "    <tr>\n",
       "      <th>(주)  씨엔에이/일용/DHL INCHEON GATEWAY EXPANSION AT INCHEON INTERNATIONAL AIRPORT 수장공사</th>\n",
       "      <th>411814</th>\n",
       "      <th>인천광역시 중구 공항동로295번길</th>\n",
       "      <th>도배  실내 장식 및 내장 목공사업</th>\n",
       "      <td>2</td>\n",
       "      <td>2</td>\n",
       "      <td>2</td>\n",
       "      <td>2</td>\n",
       "      <td>2</td>\n",
       "    </tr>\n",
       "    <tr>\n",
       "      <th>(주) 씨엔에이/상용/DHL INCHEON GATEWAY EXPANSION AT INCHEON INTERNATIONAL AIRPORT 수장공사</th>\n",
       "      <th>411814</th>\n",
       "      <th>인천광역시 중구 공항동로295번길</th>\n",
       "      <th>도배  실내 장식 및 내장 목공사업</th>\n",
       "      <td>3</td>\n",
       "      <td>3</td>\n",
       "      <td>3</td>\n",
       "      <td>3</td>\n",
       "      <td>3</td>\n",
       "    </tr>\n",
       "    <tr>\n",
       "      <th>(주)지티지웰니스</th>\n",
       "      <th>229813</th>\n",
       "      <th>경기도 용인시 수지구 신수로</th>\n",
       "      <th>의료 기기 도매업</th>\n",
       "      <td>10</td>\n",
       "      <td>10</td>\n",
       "      <td>10</td>\n",
       "      <td>10</td>\n",
       "      <td>10</td>\n",
       "    </tr>\n",
       "  </tbody>\n",
       "</table>\n",
       "</div>"
      ],
      "text/plain": [
       "                                                                                                  자료생성년월  \\\n",
       "사업장명                                               사업자번호  도로명주소              업종코드명                         \n",
       "   (One+)용인동천노인복지센터                                142826 경기도 용인시 수지구 동천로    기타                       10   \n",
       "  (유)  성우이앤씨/일용/인천공항T2장기주차빌딩A등12동시설공사(PKG1)중 파일... 401812 인천광역시 중구 제2터미널대로   유리 및 창호 공사업               1   \n",
       "  (주)  씨엔에이/일용/DHL INCHEON GATEWAY EXPANSION AT... 411814 인천광역시 중구 공항동로295번길 도배  실내 장식 및 내장 목공사업       2   \n",
       "  (주) 씨엔에이/상용/DHL INCHEON GATEWAY EXPANSION AT ... 411814 인천광역시 중구 공항동로295번길 도배  실내 장식 및 내장 목공사업       3   \n",
       "  (주)지티지웰니스                                        229813 경기도 용인시 수지구 신수로    의료 기기 도매업                10   \n",
       "\n",
       "                                                                                                  가입자수  \\\n",
       "사업장명                                               사업자번호  도로명주소              업종코드명                       \n",
       "   (One+)용인동천노인복지센터                                142826 경기도 용인시 수지구 동천로    기타                     10   \n",
       "  (유)  성우이앤씨/일용/인천공항T2장기주차빌딩A등12동시설공사(PKG1)중 파일... 401812 인천광역시 중구 제2터미널대로   유리 및 창호 공사업             1   \n",
       "  (주)  씨엔에이/일용/DHL INCHEON GATEWAY EXPANSION AT... 411814 인천광역시 중구 공항동로295번길 도배  실내 장식 및 내장 목공사업     2   \n",
       "  (주) 씨엔에이/상용/DHL INCHEON GATEWAY EXPANSION AT ... 411814 인천광역시 중구 공항동로295번길 도배  실내 장식 및 내장 목공사업     3   \n",
       "  (주)지티지웰니스                                        229813 경기도 용인시 수지구 신수로    의료 기기 도매업              10   \n",
       "\n",
       "                                                                                                  고지금액  \\\n",
       "사업장명                                               사업자번호  도로명주소              업종코드명                       \n",
       "   (One+)용인동천노인복지센터                                142826 경기도 용인시 수지구 동천로    기타                     10   \n",
       "  (유)  성우이앤씨/일용/인천공항T2장기주차빌딩A등12동시설공사(PKG1)중 파일... 401812 인천광역시 중구 제2터미널대로   유리 및 창호 공사업             1   \n",
       "  (주)  씨엔에이/일용/DHL INCHEON GATEWAY EXPANSION AT... 411814 인천광역시 중구 공항동로295번길 도배  실내 장식 및 내장 목공사업     2   \n",
       "  (주) 씨엔에이/상용/DHL INCHEON GATEWAY EXPANSION AT ... 411814 인천광역시 중구 공항동로295번길 도배  실내 장식 및 내장 목공사업     3   \n",
       "  (주)지티지웰니스                                        229813 경기도 용인시 수지구 신수로    의료 기기 도매업              10   \n",
       "\n",
       "                                                                                                  신규  \\\n",
       "사업장명                                               사업자번호  도로명주소              업종코드명                     \n",
       "   (One+)용인동천노인복지센터                                142826 경기도 용인시 수지구 동천로    기타                   10   \n",
       "  (유)  성우이앤씨/일용/인천공항T2장기주차빌딩A등12동시설공사(PKG1)중 파일... 401812 인천광역시 중구 제2터미널대로   유리 및 창호 공사업           1   \n",
       "  (주)  씨엔에이/일용/DHL INCHEON GATEWAY EXPANSION AT... 411814 인천광역시 중구 공항동로295번길 도배  실내 장식 및 내장 목공사업   2   \n",
       "  (주) 씨엔에이/상용/DHL INCHEON GATEWAY EXPANSION AT ... 411814 인천광역시 중구 공항동로295번길 도배  실내 장식 및 내장 목공사업   3   \n",
       "  (주)지티지웰니스                                        229813 경기도 용인시 수지구 신수로    의료 기기 도매업            10   \n",
       "\n",
       "                                                                                                  상실  \n",
       "사업장명                                               사업자번호  도로명주소              업종코드명                    \n",
       "   (One+)용인동천노인복지센터                                142826 경기도 용인시 수지구 동천로    기타                   10  \n",
       "  (유)  성우이앤씨/일용/인천공항T2장기주차빌딩A등12동시설공사(PKG1)중 파일... 401812 인천광역시 중구 제2터미널대로   유리 및 창호 공사업           1  \n",
       "  (주)  씨엔에이/일용/DHL INCHEON GATEWAY EXPANSION AT... 411814 인천광역시 중구 공항동로295번길 도배  실내 장식 및 내장 목공사업   2  \n",
       "  (주) 씨엔에이/상용/DHL INCHEON GATEWAY EXPANSION AT ... 411814 인천광역시 중구 공항동로295번길 도배  실내 장식 및 내장 목공사업   3  \n",
       "  (주)지티지웰니스                                        229813 경기도 용인시 수지구 신수로    의료 기기 도매업            10  "
      ]
     },
     "execution_count": 17,
     "metadata": {},
     "output_type": "execute_result"
    }
   ],
   "source": [
    "df_idx.head()"
   ]
  },
  {
   "cell_type": "code",
   "execution_count": 18,
   "id": "a5124d4e-718e-462a-a5a7-519e79e5b65b",
   "metadata": {},
   "outputs": [],
   "source": [
    "df_idx = df_idx.loc[df_idx.자료생성년월 == 10,:]"
   ]
  },
  {
   "cell_type": "code",
   "execution_count": 19,
   "id": "1ec287ea-4c8e-47a8-9cc7-098d0944b144",
   "metadata": {},
   "outputs": [],
   "source": [
    "df_idx = df_idx.reset_index().iloc[:,:4]"
   ]
  },
  {
   "cell_type": "code",
   "execution_count": 20,
   "id": "f8608a42-ab46-4784-808c-38928fe3143f",
   "metadata": {},
   "outputs": [],
   "source": [
    "df = pd.merge(df, df_idx, how = \"inner\", on = ['사업장명','사업자번호','도로명주소','업종코드명'])"
   ]
  },
  {
   "cell_type": "code",
   "execution_count": 21,
   "id": "eb169eef-573e-4723-acc2-006013d58e20",
   "metadata": {},
   "outputs": [
    {
     "data": {
      "text/html": [
       "<div>\n",
       "<style scoped>\n",
       "    .dataframe tbody tr th:only-of-type {\n",
       "        vertical-align: middle;\n",
       "    }\n",
       "\n",
       "    .dataframe tbody tr th {\n",
       "        vertical-align: top;\n",
       "    }\n",
       "\n",
       "    .dataframe thead th {\n",
       "        text-align: right;\n",
       "    }\n",
       "</style>\n",
       "<table border=\"1\" class=\"dataframe\">\n",
       "  <thead>\n",
       "    <tr style=\"text-align: right;\">\n",
       "      <th></th>\n",
       "      <th>자료생성년월</th>\n",
       "      <th>사업장명</th>\n",
       "      <th>사업자번호</th>\n",
       "      <th>도로명주소</th>\n",
       "      <th>업종코드명</th>\n",
       "      <th>가입자수</th>\n",
       "      <th>고지금액</th>\n",
       "      <th>신규</th>\n",
       "      <th>상실</th>\n",
       "    </tr>\n",
       "  </thead>\n",
       "  <tbody>\n",
       "    <tr>\n",
       "      <th>0</th>\n",
       "      <td>1</td>\n",
       "      <td>(주)니프코코리아</td>\n",
       "      <td>211814</td>\n",
       "      <td>충청남도 아산시 둔포면 아산밸리남로</td>\n",
       "      <td>포장용 플라스틱 성형용기 제조업</td>\n",
       "      <td>597</td>\n",
       "      <td>268966860</td>\n",
       "      <td>1</td>\n",
       "      <td>6</td>\n",
       "    </tr>\n",
       "    <tr>\n",
       "      <th>1</th>\n",
       "      <td>2</td>\n",
       "      <td>(주)니프코코리아</td>\n",
       "      <td>211814</td>\n",
       "      <td>충청남도 아산시 둔포면 아산밸리남로</td>\n",
       "      <td>포장용 플라스틱 성형용기 제조업</td>\n",
       "      <td>593</td>\n",
       "      <td>267215940</td>\n",
       "      <td>2</td>\n",
       "      <td>8</td>\n",
       "    </tr>\n",
       "    <tr>\n",
       "      <th>2</th>\n",
       "      <td>3</td>\n",
       "      <td>(주)니프코코리아</td>\n",
       "      <td>211814</td>\n",
       "      <td>충청남도 아산시 둔포면 아산밸리남로</td>\n",
       "      <td>포장용 플라스틱 성형용기 제조업</td>\n",
       "      <td>590</td>\n",
       "      <td>265736600</td>\n",
       "      <td>5</td>\n",
       "      <td>7</td>\n",
       "    </tr>\n",
       "    <tr>\n",
       "      <th>3</th>\n",
       "      <td>4</td>\n",
       "      <td>(주)니프코코리아</td>\n",
       "      <td>211814</td>\n",
       "      <td>충청남도 아산시 둔포면 아산밸리남로</td>\n",
       "      <td>포장용 플라스틱 성형용기 제조업</td>\n",
       "      <td>588</td>\n",
       "      <td>264774020</td>\n",
       "      <td>5</td>\n",
       "      <td>6</td>\n",
       "    </tr>\n",
       "    <tr>\n",
       "      <th>4</th>\n",
       "      <td>5</td>\n",
       "      <td>(주)니프코코리아</td>\n",
       "      <td>211814</td>\n",
       "      <td>충청남도 아산시 둔포면 아산밸리남로</td>\n",
       "      <td>포장용 플라스틱 성형용기 제조업</td>\n",
       "      <td>584</td>\n",
       "      <td>262790600</td>\n",
       "      <td>2</td>\n",
       "      <td>4</td>\n",
       "    </tr>\n",
       "  </tbody>\n",
       "</table>\n",
       "</div>"
      ],
      "text/plain": [
       "   자료생성년월       사업장명   사업자번호                도로명주소              업종코드명  가입자수  \\\n",
       "0       1  (주)니프코코리아  211814  충청남도 아산시 둔포면 아산밸리남로  포장용 플라스틱 성형용기 제조업   597   \n",
       "1       2  (주)니프코코리아  211814  충청남도 아산시 둔포면 아산밸리남로  포장용 플라스틱 성형용기 제조업   593   \n",
       "2       3  (주)니프코코리아  211814  충청남도 아산시 둔포면 아산밸리남로  포장용 플라스틱 성형용기 제조업   590   \n",
       "3       4  (주)니프코코리아  211814  충청남도 아산시 둔포면 아산밸리남로  포장용 플라스틱 성형용기 제조업   588   \n",
       "4       5  (주)니프코코리아  211814  충청남도 아산시 둔포면 아산밸리남로  포장용 플라스틱 성형용기 제조업   584   \n",
       "\n",
       "        고지금액  신규  상실  \n",
       "0  268966860   1   6  \n",
       "1  267215940   2   8  \n",
       "2  265736600   5   7  \n",
       "3  264774020   5   6  \n",
       "4  262790600   2   4  "
      ]
     },
     "execution_count": 21,
     "metadata": {},
     "output_type": "execute_result"
    }
   ],
   "source": [
    "df.head()"
   ]
  },
  {
   "cell_type": "markdown",
   "id": "1b9c9ea9-b7d5-4478-9f56-c7efffcfc194",
   "metadata": {},
   "source": [
    "## 월급, 연봉 추정"
   ]
  },
  {
   "cell_type": "code",
   "execution_count": 22,
   "id": "4c8d9b53-9247-407e-9f82-ba3d0940d002",
   "metadata": {},
   "outputs": [
    {
     "data": {
      "text/plain": [
       "0   450530.75\n",
       "1   450617.10\n",
       "2   450401.02\n",
       "3   450295.95\n",
       "4   449983.90\n",
       "Name: 인당고지금액, dtype: float64"
      ]
     },
     "execution_count": 22,
     "metadata": {},
     "output_type": "execute_result"
    }
   ],
   "source": [
    "df['인당고지금액'] = df['고지금액'] / df['가입자수']\n",
    "df['인당고지금액'].head()"
   ]
  },
  {
   "cell_type": "markdown",
   "id": "7e6f4df4-f425-4885-beef-3610ae7557aa",
   "metadata": {
    "tags": []
   },
   "source": [
    "## <국민연금 정보로 연봉정보를 계산하는 방법>\n",
    "######\n",
    "##### 국민연금 보험률: 9%. 즉, 급여(신고소득월액)의 9%를 국민연금으로 내는 것을 의미\n",
    "##### 이를 절반으로 나누어 4.5%는 회사가, 나머지 절반은 개인이 부담하는 구조(회사는 급여 외에 추가로 금액을 부담)\n",
    "######\n",
    "##### 국민연금 보험료는 소득 상한선과 하한선이 설정되어 있어 소득 전체가 아닌 일부 소득에만 부과\n",
    "##### 이를 역산하면 신고소득월액의 계산이 가능(상한선과 하한선이 설정되어 있어 실제보다 과소계산될 수 있음)\n",
    "######\n",
    "##### [수식]\n",
    "##### 임직원 평균 월급 = 인당고지금액 / 9% * 100%\n",
    "##### 임직원 평균 연봉 = 임직원 평균 월급 * 12개월"
   ]
  },
  {
   "cell_type": "code",
   "execution_count": 23,
   "id": "0fa885e2-f914-4bc2-af44-f4601a7ec027",
   "metadata": {},
   "outputs": [],
   "source": [
    "df['평균월급'] = df['인당고지금액'] / 9 * 100"
   ]
  },
  {
   "cell_type": "code",
   "execution_count": 24,
   "id": "8a3d0db9-dae9-414e-88da-6b48557db2a1",
   "metadata": {},
   "outputs": [],
   "source": [
    "df['평균연봉'] = df['평균월급'] * 12"
   ]
  },
  {
   "cell_type": "code",
   "execution_count": 25,
   "id": "a65dae1b-13f1-437e-b007-c45416ce2bf3",
   "metadata": {},
   "outputs": [],
   "source": [
    "df['평균월급'] = round(df['평균월급'] / 10000)\n",
    "df['평균연봉'] = round(df['평균연봉'] / 10000)\n",
    "df[\"평균월급\"] = df[\"평균월급\"].astype(int)\n",
    "df[\"평균연봉\"] = df[\"평균연봉\"].astype(int)"
   ]
  },
  {
   "cell_type": "code",
   "execution_count": 26,
   "id": "15c620de-0773-42b0-b28e-f8f0980b293f",
   "metadata": {},
   "outputs": [
    {
     "data": {
      "text/html": [
       "<div>\n",
       "<style scoped>\n",
       "    .dataframe tbody tr th:only-of-type {\n",
       "        vertical-align: middle;\n",
       "    }\n",
       "\n",
       "    .dataframe tbody tr th {\n",
       "        vertical-align: top;\n",
       "    }\n",
       "\n",
       "    .dataframe thead th {\n",
       "        text-align: right;\n",
       "    }\n",
       "</style>\n",
       "<table border=\"1\" class=\"dataframe\">\n",
       "  <thead>\n",
       "    <tr style=\"text-align: right;\">\n",
       "      <th></th>\n",
       "      <th>자료생성년월</th>\n",
       "      <th>사업장명</th>\n",
       "      <th>사업자번호</th>\n",
       "      <th>도로명주소</th>\n",
       "      <th>업종코드명</th>\n",
       "      <th>가입자수</th>\n",
       "      <th>고지금액</th>\n",
       "      <th>신규</th>\n",
       "      <th>상실</th>\n",
       "      <th>인당고지금액</th>\n",
       "      <th>평균월급</th>\n",
       "      <th>평균연봉</th>\n",
       "    </tr>\n",
       "  </thead>\n",
       "  <tbody>\n",
       "    <tr>\n",
       "      <th>0</th>\n",
       "      <td>1</td>\n",
       "      <td>(주)니프코코리아</td>\n",
       "      <td>211814</td>\n",
       "      <td>충청남도 아산시 둔포면 아산밸리남로</td>\n",
       "      <td>포장용 플라스틱 성형용기 제조업</td>\n",
       "      <td>597</td>\n",
       "      <td>268966860</td>\n",
       "      <td>1</td>\n",
       "      <td>6</td>\n",
       "      <td>450530.75</td>\n",
       "      <td>501</td>\n",
       "      <td>6007</td>\n",
       "    </tr>\n",
       "    <tr>\n",
       "      <th>1</th>\n",
       "      <td>2</td>\n",
       "      <td>(주)니프코코리아</td>\n",
       "      <td>211814</td>\n",
       "      <td>충청남도 아산시 둔포면 아산밸리남로</td>\n",
       "      <td>포장용 플라스틱 성형용기 제조업</td>\n",
       "      <td>593</td>\n",
       "      <td>267215940</td>\n",
       "      <td>2</td>\n",
       "      <td>8</td>\n",
       "      <td>450617.10</td>\n",
       "      <td>501</td>\n",
       "      <td>6008</td>\n",
       "    </tr>\n",
       "    <tr>\n",
       "      <th>2</th>\n",
       "      <td>3</td>\n",
       "      <td>(주)니프코코리아</td>\n",
       "      <td>211814</td>\n",
       "      <td>충청남도 아산시 둔포면 아산밸리남로</td>\n",
       "      <td>포장용 플라스틱 성형용기 제조업</td>\n",
       "      <td>590</td>\n",
       "      <td>265736600</td>\n",
       "      <td>5</td>\n",
       "      <td>7</td>\n",
       "      <td>450401.02</td>\n",
       "      <td>500</td>\n",
       "      <td>6005</td>\n",
       "    </tr>\n",
       "    <tr>\n",
       "      <th>3</th>\n",
       "      <td>4</td>\n",
       "      <td>(주)니프코코리아</td>\n",
       "      <td>211814</td>\n",
       "      <td>충청남도 아산시 둔포면 아산밸리남로</td>\n",
       "      <td>포장용 플라스틱 성형용기 제조업</td>\n",
       "      <td>588</td>\n",
       "      <td>264774020</td>\n",
       "      <td>5</td>\n",
       "      <td>6</td>\n",
       "      <td>450295.95</td>\n",
       "      <td>500</td>\n",
       "      <td>6004</td>\n",
       "    </tr>\n",
       "    <tr>\n",
       "      <th>4</th>\n",
       "      <td>5</td>\n",
       "      <td>(주)니프코코리아</td>\n",
       "      <td>211814</td>\n",
       "      <td>충청남도 아산시 둔포면 아산밸리남로</td>\n",
       "      <td>포장용 플라스틱 성형용기 제조업</td>\n",
       "      <td>584</td>\n",
       "      <td>262790600</td>\n",
       "      <td>2</td>\n",
       "      <td>4</td>\n",
       "      <td>449983.90</td>\n",
       "      <td>500</td>\n",
       "      <td>6000</td>\n",
       "    </tr>\n",
       "  </tbody>\n",
       "</table>\n",
       "</div>"
      ],
      "text/plain": [
       "   자료생성년월       사업장명   사업자번호                도로명주소              업종코드명  가입자수  \\\n",
       "0       1  (주)니프코코리아  211814  충청남도 아산시 둔포면 아산밸리남로  포장용 플라스틱 성형용기 제조업   597   \n",
       "1       2  (주)니프코코리아  211814  충청남도 아산시 둔포면 아산밸리남로  포장용 플라스틱 성형용기 제조업   593   \n",
       "2       3  (주)니프코코리아  211814  충청남도 아산시 둔포면 아산밸리남로  포장용 플라스틱 성형용기 제조업   590   \n",
       "3       4  (주)니프코코리아  211814  충청남도 아산시 둔포면 아산밸리남로  포장용 플라스틱 성형용기 제조업   588   \n",
       "4       5  (주)니프코코리아  211814  충청남도 아산시 둔포면 아산밸리남로  포장용 플라스틱 성형용기 제조업   584   \n",
       "\n",
       "        고지금액  신규  상실    인당고지금액  평균월급  평균연봉  \n",
       "0  268966860   1   6 450530.75   501  6007  \n",
       "1  267215940   2   8 450617.10   501  6008  \n",
       "2  265736600   5   7 450401.02   500  6005  \n",
       "3  264774020   5   6 450295.95   500  6004  \n",
       "4  262790600   2   4 449983.90   500  6000  "
      ]
     },
     "execution_count": 26,
     "metadata": {},
     "output_type": "execute_result"
    }
   ],
   "source": [
    "df.head()"
   ]
  },
  {
   "cell_type": "code",
   "execution_count": 27,
   "id": "cdea3674-3d9d-4eb9-be6d-6a4d06730e27",
   "metadata": {},
   "outputs": [
    {
     "data": {
      "image/png": "[encoded data removed]",
      "text/plain": [
       "<Figure size 500x300 with 1 Axes>"
      ]
     },
     "metadata": {},
     "output_type": "display_data"
    }
   ],
   "source": [
    "plt.figure(figsize=(5, 3))\n",
    "sns.distplot(df.loc[df['평균월급'].notnull(), '평균월급'])\n",
    "plt.show()"
   ]
  },
  {
   "cell_type": "code",
   "execution_count": 28,
   "id": "29fc0117-0aa0-4b53-b4e1-ed1171e12aab",
   "metadata": {},
   "outputs": [
    {
     "data": {
      "image/png": "[encoded data removed]",
      "text/plain": [
       "<Figure size 500x300 with 1 Axes>"
      ]
     },
     "metadata": {},
     "output_type": "display_data"
    }
   ],
   "source": [
    "plt.figure(figsize=(5, 3))\n",
    "sns.distplot(df.loc[df['평균연봉'].notnull(), '평균연봉'])\n",
    "plt.show()"
   ]
  },
  {
   "cell_type": "markdown",
   "id": "5e4985bd-6dab-4564-bb36-f70b573b79ae",
   "metadata": {},
   "source": [
    "## validation"
   ]
  },
  {
   "cell_type": "code",
   "execution_count": 29,
   "id": "b770c48b-6156-44e6-b15a-213638f548da",
   "metadata": {},
   "outputs": [],
   "source": [
    "from sklearn.preprocessing import LabelEncoder\n",
    "from sklearn.model_selection import train_test_split\n",
    "from sklearn.tree import DecisionTreeClassifier\n",
    "from sklearn.metrics import accuracy_score"
   ]
  },
  {
   "cell_type": "code",
   "execution_count": 30,
   "id": "d7f50f15-2871-4f3a-8715-47980fc5bf64",
   "metadata": {},
   "outputs": [],
   "source": [
    "from sklearn.ensemble import RandomForestClassifier,BaggingClassifier,AdaBoostClassifier"
   ]
  },
  {
   "cell_type": "code",
   "execution_count": 31,
   "id": "3143a690-b022-4068-99c7-425ebf5ee45b",
   "metadata": {},
   "outputs": [
    {
     "data": {
      "text/plain": [
       "Index(['자료생성년월', '사업장명', '사업자번호', '도로명주소', '업종코드명', '가입자수', '고지금액', '신규', '상실',\n",
       "       '인당고지금액', '평균월급', '평균연봉'],\n",
       "      dtype='object')"
      ]
     },
     "execution_count": 31,
     "metadata": {},
     "output_type": "execute_result"
    }
   ],
   "source": [
    "df.columns"
   ]
  },
  {
   "cell_type": "code",
   "execution_count": 32,
   "id": "0c115b56-0876-462b-a6f8-8a921e4212df",
   "metadata": {},
   "outputs": [],
   "source": [
    "encoding_columns = ['사업장명','도로명주소','업종코드명']\n",
    "not_encoding_columns = ['자료생성년월','사업자번호','가입자수', '고지금액','신규', '상실', '인당고지금액', '평균월급', '평균연봉']"
   ]
  },
  {
   "cell_type": "code",
   "execution_count": 33,
   "id": "7f6443f6-01bb-4952-8319-580d0e1e5134",
   "metadata": {},
   "outputs": [],
   "source": [
    "enc_classes = {} \n",
    "def encoding_label(x):   # x: 범주형 타입의 컬럼(Series)\n",
    "    le = LabelEncoder()\n",
    "    le.fit(x)\n",
    "    label = le.transform(x)\n",
    "    enc_classes[x.name] = le.classes_   # x.name: 컬럼명\n",
    "    return label"
   ]
  },
  {
   "cell_type": "code",
   "execution_count": 34,
   "id": "619c12b3-83cd-417e-81d1-c7d136b4f17f",
   "metadata": {},
   "outputs": [
    {
     "data": {
      "text/html": [
       "<div>\n",
       "<style scoped>\n",
       "    .dataframe tbody tr th:only-of-type {\n",
       "        vertical-align: middle;\n",
       "    }\n",
       "\n",
       "    .dataframe tbody tr th {\n",
       "        vertical-align: top;\n",
       "    }\n",
       "\n",
       "    .dataframe thead th {\n",
       "        text-align: right;\n",
       "    }\n",
       "</style>\n",
       "<table border=\"1\" class=\"dataframe\">\n",
       "  <thead>\n",
       "    <tr style=\"text-align: right;\">\n",
       "      <th></th>\n",
       "      <th>사업장명</th>\n",
       "      <th>도로명주소</th>\n",
       "      <th>업종코드명</th>\n",
       "    </tr>\n",
       "  </thead>\n",
       "  <tbody>\n",
       "    <tr>\n",
       "      <th>0</th>\n",
       "      <td>13668</td>\n",
       "      <td>54994</td>\n",
       "      <td>1003</td>\n",
       "    </tr>\n",
       "    <tr>\n",
       "      <th>1</th>\n",
       "      <td>13668</td>\n",
       "      <td>54994</td>\n",
       "      <td>1003</td>\n",
       "    </tr>\n",
       "    <tr>\n",
       "      <th>2</th>\n",
       "      <td>13668</td>\n",
       "      <td>54994</td>\n",
       "      <td>1003</td>\n",
       "    </tr>\n",
       "    <tr>\n",
       "      <th>3</th>\n",
       "      <td>13668</td>\n",
       "      <td>54994</td>\n",
       "      <td>1003</td>\n",
       "    </tr>\n",
       "    <tr>\n",
       "      <th>4</th>\n",
       "      <td>13668</td>\n",
       "      <td>54994</td>\n",
       "      <td>1003</td>\n",
       "    </tr>\n",
       "  </tbody>\n",
       "</table>\n",
       "</div>"
      ],
      "text/plain": [
       "    사업장명  도로명주소  업종코드명\n",
       "0  13668  54994   1003\n",
       "1  13668  54994   1003\n",
       "2  13668  54994   1003\n",
       "3  13668  54994   1003\n",
       "4  13668  54994   1003"
      ]
     },
     "execution_count": 34,
     "metadata": {},
     "output_type": "execute_result"
    }
   ],
   "source": [
    "d1 = df[encoding_columns].apply(encoding_label)\n",
    "d1.head()"
   ]
  },
  {
   "cell_type": "code",
   "execution_count": 35,
   "id": "086d031e-1d17-4c15-beaa-3ac8c107c15f",
   "metadata": {},
   "outputs": [
    {
     "data": {
      "text/html": [
       "<div>\n",
       "<style scoped>\n",
       "    .dataframe tbody tr th:only-of-type {\n",
       "        vertical-align: middle;\n",
       "    }\n",
       "\n",
       "    .dataframe tbody tr th {\n",
       "        vertical-align: top;\n",
       "    }\n",
       "\n",
       "    .dataframe thead th {\n",
       "        text-align: right;\n",
       "    }\n",
       "</style>\n",
       "<table border=\"1\" class=\"dataframe\">\n",
       "  <thead>\n",
       "    <tr style=\"text-align: right;\">\n",
       "      <th></th>\n",
       "      <th>자료생성년월</th>\n",
       "      <th>사업자번호</th>\n",
       "      <th>가입자수</th>\n",
       "      <th>고지금액</th>\n",
       "      <th>신규</th>\n",
       "      <th>상실</th>\n",
       "      <th>인당고지금액</th>\n",
       "      <th>평균월급</th>\n",
       "      <th>평균연봉</th>\n",
       "    </tr>\n",
       "  </thead>\n",
       "  <tbody>\n",
       "    <tr>\n",
       "      <th>0</th>\n",
       "      <td>1</td>\n",
       "      <td>211814</td>\n",
       "      <td>597</td>\n",
       "      <td>268966860</td>\n",
       "      <td>1</td>\n",
       "      <td>6</td>\n",
       "      <td>450530.75</td>\n",
       "      <td>501</td>\n",
       "      <td>6007</td>\n",
       "    </tr>\n",
       "    <tr>\n",
       "      <th>1</th>\n",
       "      <td>2</td>\n",
       "      <td>211814</td>\n",
       "      <td>593</td>\n",
       "      <td>267215940</td>\n",
       "      <td>2</td>\n",
       "      <td>8</td>\n",
       "      <td>450617.10</td>\n",
       "      <td>501</td>\n",
       "      <td>6008</td>\n",
       "    </tr>\n",
       "    <tr>\n",
       "      <th>2</th>\n",
       "      <td>3</td>\n",
       "      <td>211814</td>\n",
       "      <td>590</td>\n",
       "      <td>265736600</td>\n",
       "      <td>5</td>\n",
       "      <td>7</td>\n",
       "      <td>450401.02</td>\n",
       "      <td>500</td>\n",
       "      <td>6005</td>\n",
       "    </tr>\n",
       "    <tr>\n",
       "      <th>3</th>\n",
       "      <td>4</td>\n",
       "      <td>211814</td>\n",
       "      <td>588</td>\n",
       "      <td>264774020</td>\n",
       "      <td>5</td>\n",
       "      <td>6</td>\n",
       "      <td>450295.95</td>\n",
       "      <td>500</td>\n",
       "      <td>6004</td>\n",
       "    </tr>\n",
       "    <tr>\n",
       "      <th>4</th>\n",
       "      <td>5</td>\n",
       "      <td>211814</td>\n",
       "      <td>584</td>\n",
       "      <td>262790600</td>\n",
       "      <td>2</td>\n",
       "      <td>4</td>\n",
       "      <td>449983.90</td>\n",
       "      <td>500</td>\n",
       "      <td>6000</td>\n",
       "    </tr>\n",
       "  </tbody>\n",
       "</table>\n",
       "</div>"
      ],
      "text/plain": [
       "   자료생성년월   사업자번호  가입자수       고지금액  신규  상실    인당고지금액  평균월급  평균연봉\n",
       "0       1  211814   597  268966860   1   6 450530.75   501  6007\n",
       "1       2  211814   593  267215940   2   8 450617.10   501  6008\n",
       "2       3  211814   590  265736600   5   7 450401.02   500  6005\n",
       "3       4  211814   588  264774020   5   6 450295.95   500  6004\n",
       "4       5  211814   584  262790600   2   4 449983.90   500  6000"
      ]
     },
     "execution_count": 35,
     "metadata": {},
     "output_type": "execute_result"
    }
   ],
   "source": [
    "d2 = df[not_encoding_columns]\n",
    "d2.head()"
   ]
  },
  {
   "cell_type": "code",
   "execution_count": 36,
   "id": "7c0c9b89-d5cb-4db4-af30-f8afc603d002",
   "metadata": {},
   "outputs": [
    {
     "data": {
      "text/plain": [
       "(3545850, 3)"
      ]
     },
     "execution_count": 36,
     "metadata": {},
     "output_type": "execute_result"
    }
   ],
   "source": [
    "d1.shape"
   ]
  },
  {
   "cell_type": "code",
   "execution_count": 37,
   "id": "ab09c7eb-8748-4acc-9e42-5e0386bb5e31",
   "metadata": {},
   "outputs": [
    {
     "data": {
      "text/plain": [
       "(3545850, 9)"
      ]
     },
     "execution_count": 37,
     "metadata": {},
     "output_type": "execute_result"
    }
   ],
   "source": [
    "d2.shape"
   ]
  },
  {
   "cell_type": "code",
   "execution_count": 38,
   "id": "49f7be30-2442-4895-b22e-6e596f11c2d8",
   "metadata": {},
   "outputs": [],
   "source": [
    "test = pd.concat([d1,d2],axis=1)"
   ]
  },
  {
   "cell_type": "code",
   "execution_count": 39,
   "id": "9241d4c2-087d-4c64-ad94-ce6f661e0b3a",
   "metadata": {},
   "outputs": [
    {
     "data": {
      "text/plain": [
       "(3545850, 12)"
      ]
     },
     "execution_count": 39,
     "metadata": {},
     "output_type": "execute_result"
    }
   ],
   "source": [
    "test.shape"
   ]
  },
  {
   "cell_type": "code",
   "execution_count": 40,
   "id": "1aafd985-9faf-47dc-a28a-48c10b6c87ea",
   "metadata": {},
   "outputs": [],
   "source": [
    "#X = test.drop(labels= ['상실'], axis = 1)\n",
    "#y = test.drop(labels=['사업장명', '도로명주소', '업종코드명','사업자번호', '가입자수', '고지금액', '신규',\n",
    "#       '인당고지금액', '평균월급', '평균연봉'], axis = 1)\n",
    "\n",
    "X = test.drop(labels=['사업장명','도로명주소','업종코드명','고지금액','신규','상실','인당고지금액','평균월급'], axis = 1)\n",
    "y = test.drop(labels=['사업장명','도로명주소','업종코드명','가입자수','고지금액','신규','인당고지금액','평균월급','평균연봉'], axis = 1)"
   ]
  },
  {
   "cell_type": "code",
   "execution_count": 41,
   "id": "0dc6573b-c005-4167-ad51-2fdb53c50f88",
   "metadata": {},
   "outputs": [
    {
     "data": {
      "text/html": [
       "<div>\n",
       "<style scoped>\n",
       "    .dataframe tbody tr th:only-of-type {\n",
       "        vertical-align: middle;\n",
       "    }\n",
       "\n",
       "    .dataframe tbody tr th {\n",
       "        vertical-align: top;\n",
       "    }\n",
       "\n",
       "    .dataframe thead th {\n",
       "        text-align: right;\n",
       "    }\n",
       "</style>\n",
       "<table border=\"1\" class=\"dataframe\">\n",
       "  <thead>\n",
       "    <tr style=\"text-align: right;\">\n",
       "      <th></th>\n",
       "      <th>자료생성년월</th>\n",
       "      <th>사업자번호</th>\n",
       "      <th>가입자수</th>\n",
       "      <th>평균연봉</th>\n",
       "    </tr>\n",
       "  </thead>\n",
       "  <tbody>\n",
       "    <tr>\n",
       "      <th>0</th>\n",
       "      <td>1</td>\n",
       "      <td>211814</td>\n",
       "      <td>597</td>\n",
       "      <td>6007</td>\n",
       "    </tr>\n",
       "    <tr>\n",
       "      <th>1</th>\n",
       "      <td>2</td>\n",
       "      <td>211814</td>\n",
       "      <td>593</td>\n",
       "      <td>6008</td>\n",
       "    </tr>\n",
       "    <tr>\n",
       "      <th>2</th>\n",
       "      <td>3</td>\n",
       "      <td>211814</td>\n",
       "      <td>590</td>\n",
       "      <td>6005</td>\n",
       "    </tr>\n",
       "    <tr>\n",
       "      <th>3</th>\n",
       "      <td>4</td>\n",
       "      <td>211814</td>\n",
       "      <td>588</td>\n",
       "      <td>6004</td>\n",
       "    </tr>\n",
       "    <tr>\n",
       "      <th>4</th>\n",
       "      <td>5</td>\n",
       "      <td>211814</td>\n",
       "      <td>584</td>\n",
       "      <td>6000</td>\n",
       "    </tr>\n",
       "  </tbody>\n",
       "</table>\n",
       "</div>"
      ],
      "text/plain": [
       "   자료생성년월   사업자번호  가입자수  평균연봉\n",
       "0       1  211814   597  6007\n",
       "1       2  211814   593  6008\n",
       "2       3  211814   590  6005\n",
       "3       4  211814   588  6004\n",
       "4       5  211814   584  6000"
      ]
     },
     "execution_count": 41,
     "metadata": {},
     "output_type": "execute_result"
    }
   ],
   "source": [
    "X.head()"
   ]
  },
  {
   "cell_type": "code",
   "execution_count": 42,
   "id": "34242d8e-71c5-4a36-bdda-ddcaff0f1af8",
   "metadata": {},
   "outputs": [
    {
     "data": {
      "text/html": [
       "<div>\n",
       "<style scoped>\n",
       "    .dataframe tbody tr th:only-of-type {\n",
       "        vertical-align: middle;\n",
       "    }\n",
       "\n",
       "    .dataframe tbody tr th {\n",
       "        vertical-align: top;\n",
       "    }\n",
       "\n",
       "    .dataframe thead th {\n",
       "        text-align: right;\n",
       "    }\n",
       "</style>\n",
       "<table border=\"1\" class=\"dataframe\">\n",
       "  <thead>\n",
       "    <tr style=\"text-align: right;\">\n",
       "      <th></th>\n",
       "      <th>자료생성년월</th>\n",
       "      <th>사업자번호</th>\n",
       "      <th>상실</th>\n",
       "    </tr>\n",
       "  </thead>\n",
       "  <tbody>\n",
       "    <tr>\n",
       "      <th>0</th>\n",
       "      <td>1</td>\n",
       "      <td>211814</td>\n",
       "      <td>6</td>\n",
       "    </tr>\n",
       "    <tr>\n",
       "      <th>1</th>\n",
       "      <td>2</td>\n",
       "      <td>211814</td>\n",
       "      <td>8</td>\n",
       "    </tr>\n",
       "    <tr>\n",
       "      <th>2</th>\n",
       "      <td>3</td>\n",
       "      <td>211814</td>\n",
       "      <td>7</td>\n",
       "    </tr>\n",
       "    <tr>\n",
       "      <th>3</th>\n",
       "      <td>4</td>\n",
       "      <td>211814</td>\n",
       "      <td>6</td>\n",
       "    </tr>\n",
       "    <tr>\n",
       "      <th>4</th>\n",
       "      <td>5</td>\n",
       "      <td>211814</td>\n",
       "      <td>4</td>\n",
       "    </tr>\n",
       "  </tbody>\n",
       "</table>\n",
       "</div>"
      ],
      "text/plain": [
       "   자료생성년월   사업자번호  상실\n",
       "0       1  211814   6\n",
       "1       2  211814   8\n",
       "2       3  211814   7\n",
       "3       4  211814   6\n",
       "4       5  211814   4"
      ]
     },
     "execution_count": 42,
     "metadata": {},
     "output_type": "execute_result"
    }
   ],
   "source": [
    "y.head()"
   ]
  },
  {
   "cell_type": "code",
   "execution_count": 43,
   "id": "f12afda8-5aef-47cf-85a0-8b3546791f8e",
   "metadata": {
    "tags": []
   },
   "outputs": [
    {
     "data": {
      "text/html": [
       "<div>\n",
       "<style scoped>\n",
       "    .dataframe tbody tr th:only-of-type {\n",
       "        vertical-align: middle;\n",
       "    }\n",
       "\n",
       "    .dataframe tbody tr th {\n",
       "        vertical-align: top;\n",
       "    }\n",
       "\n",
       "    .dataframe thead th {\n",
       "        text-align: right;\n",
       "    }\n",
       "</style>\n",
       "<table border=\"1\" class=\"dataframe\">\n",
       "  <thead>\n",
       "    <tr style=\"text-align: right;\">\n",
       "      <th></th>\n",
       "      <th>자료생성년월</th>\n",
       "      <th>사업자번호</th>\n",
       "      <th>가입자수</th>\n",
       "      <th>평균연봉</th>\n",
       "    </tr>\n",
       "  </thead>\n",
       "  <tbody>\n",
       "    <tr>\n",
       "      <th>0</th>\n",
       "      <td>1</td>\n",
       "      <td>211814</td>\n",
       "      <td>597</td>\n",
       "      <td>6007</td>\n",
       "    </tr>\n",
       "    <tr>\n",
       "      <th>1</th>\n",
       "      <td>2</td>\n",
       "      <td>211814</td>\n",
       "      <td>593</td>\n",
       "      <td>6008</td>\n",
       "    </tr>\n",
       "    <tr>\n",
       "      <th>2</th>\n",
       "      <td>3</td>\n",
       "      <td>211814</td>\n",
       "      <td>590</td>\n",
       "      <td>6005</td>\n",
       "    </tr>\n",
       "    <tr>\n",
       "      <th>3</th>\n",
       "      <td>4</td>\n",
       "      <td>211814</td>\n",
       "      <td>588</td>\n",
       "      <td>6004</td>\n",
       "    </tr>\n",
       "    <tr>\n",
       "      <th>4</th>\n",
       "      <td>5</td>\n",
       "      <td>211814</td>\n",
       "      <td>584</td>\n",
       "      <td>6000</td>\n",
       "    </tr>\n",
       "  </tbody>\n",
       "</table>\n",
       "</div>"
      ],
      "text/plain": [
       "   자료생성년월   사업자번호  가입자수  평균연봉\n",
       "0       1  211814   597  6007\n",
       "1       2  211814   593  6008\n",
       "2       3  211814   590  6005\n",
       "3       4  211814   588  6004\n",
       "4       5  211814   584  6000"
      ]
     },
     "execution_count": 43,
     "metadata": {},
     "output_type": "execute_result"
    }
   ],
   "source": [
    "a = X.loc[X['자료생성년월'] <= 8]\n",
    "a.head()"
   ]
  },
  {
   "cell_type": "code",
   "execution_count": 44,
   "id": "b955506b-c75d-4767-a466-19bd90e9566e",
   "metadata": {
    "tags": []
   },
   "outputs": [
    {
     "data": {
      "text/html": [
       "<div>\n",
       "<style scoped>\n",
       "    .dataframe tbody tr th:only-of-type {\n",
       "        vertical-align: middle;\n",
       "    }\n",
       "\n",
       "    .dataframe tbody tr th {\n",
       "        vertical-align: top;\n",
       "    }\n",
       "\n",
       "    .dataframe thead th {\n",
       "        text-align: right;\n",
       "    }\n",
       "</style>\n",
       "<table border=\"1\" class=\"dataframe\">\n",
       "  <thead>\n",
       "    <tr style=\"text-align: right;\">\n",
       "      <th></th>\n",
       "      <th>자료생성년월</th>\n",
       "      <th>사업자번호</th>\n",
       "      <th>상실</th>\n",
       "    </tr>\n",
       "  </thead>\n",
       "  <tbody>\n",
       "    <tr>\n",
       "      <th>0</th>\n",
       "      <td>1</td>\n",
       "      <td>211814</td>\n",
       "      <td>6</td>\n",
       "    </tr>\n",
       "    <tr>\n",
       "      <th>1</th>\n",
       "      <td>2</td>\n",
       "      <td>211814</td>\n",
       "      <td>8</td>\n",
       "    </tr>\n",
       "    <tr>\n",
       "      <th>2</th>\n",
       "      <td>3</td>\n",
       "      <td>211814</td>\n",
       "      <td>7</td>\n",
       "    </tr>\n",
       "    <tr>\n",
       "      <th>3</th>\n",
       "      <td>4</td>\n",
       "      <td>211814</td>\n",
       "      <td>6</td>\n",
       "    </tr>\n",
       "    <tr>\n",
       "      <th>4</th>\n",
       "      <td>5</td>\n",
       "      <td>211814</td>\n",
       "      <td>4</td>\n",
       "    </tr>\n",
       "  </tbody>\n",
       "</table>\n",
       "</div>"
      ],
      "text/plain": [
       "   자료생성년월   사업자번호  상실\n",
       "0       1  211814   6\n",
       "1       2  211814   8\n",
       "2       3  211814   7\n",
       "3       4  211814   6\n",
       "4       5  211814   4"
      ]
     },
     "execution_count": 44,
     "metadata": {},
     "output_type": "execute_result"
    }
   ],
   "source": [
    "b = y.loc[y['자료생성년월'] <= 8]\n",
    "b.head()"
   ]
  },
  {
   "cell_type": "code",
   "execution_count": 45,
   "id": "e486c853-4f27-4cdb-9c95-deab2e7324ea",
   "metadata": {},
   "outputs": [
    {
     "data": {
      "text/html": [
       "<div>\n",
       "<style scoped>\n",
       "    .dataframe tbody tr th:only-of-type {\n",
       "        vertical-align: middle;\n",
       "    }\n",
       "\n",
       "    .dataframe tbody tr th {\n",
       "        vertical-align: top;\n",
       "    }\n",
       "\n",
       "    .dataframe thead th {\n",
       "        text-align: right;\n",
       "    }\n",
       "</style>\n",
       "<table border=\"1\" class=\"dataframe\">\n",
       "  <thead>\n",
       "    <tr style=\"text-align: right;\">\n",
       "      <th></th>\n",
       "      <th>자료생성년월</th>\n",
       "      <th>사업자번호</th>\n",
       "      <th>가입자수</th>\n",
       "      <th>평균연봉</th>\n",
       "    </tr>\n",
       "  </thead>\n",
       "  <tbody>\n",
       "    <tr>\n",
       "      <th>8</th>\n",
       "      <td>9</td>\n",
       "      <td>211814</td>\n",
       "      <td>580</td>\n",
       "      <td>6376</td>\n",
       "    </tr>\n",
       "    <tr>\n",
       "      <th>18</th>\n",
       "      <td>9</td>\n",
       "      <td>201810</td>\n",
       "      <td>19</td>\n",
       "      <td>4423</td>\n",
       "    </tr>\n",
       "    <tr>\n",
       "      <th>28</th>\n",
       "      <td>9</td>\n",
       "      <td>104810</td>\n",
       "      <td>312</td>\n",
       "      <td>5354</td>\n",
       "    </tr>\n",
       "    <tr>\n",
       "      <th>38</th>\n",
       "      <td>9</td>\n",
       "      <td>102812</td>\n",
       "      <td>853</td>\n",
       "      <td>6232</td>\n",
       "    </tr>\n",
       "    <tr>\n",
       "      <th>48</th>\n",
       "      <td>9</td>\n",
       "      <td>202814</td>\n",
       "      <td>42</td>\n",
       "      <td>4909</td>\n",
       "    </tr>\n",
       "  </tbody>\n",
       "</table>\n",
       "</div>"
      ],
      "text/plain": [
       "    자료생성년월   사업자번호  가입자수  평균연봉\n",
       "8        9  211814   580  6376\n",
       "18       9  201810    19  4423\n",
       "28       9  104810   312  5354\n",
       "38       9  102812   853  6232\n",
       "48       9  202814    42  4909"
      ]
     },
     "execution_count": 45,
     "metadata": {},
     "output_type": "execute_result"
    }
   ],
   "source": [
    "c = X.loc[X['자료생성년월'] == 9]\n",
    "c.head()"
   ]
  },
  {
   "cell_type": "code",
   "execution_count": 46,
   "id": "632e5157-5ce7-412b-a4ad-cecb9f1e5cf8",
   "metadata": {},
   "outputs": [
    {
     "data": {
      "text/html": [
       "<div>\n",
       "<style scoped>\n",
       "    .dataframe tbody tr th:only-of-type {\n",
       "        vertical-align: middle;\n",
       "    }\n",
       "\n",
       "    .dataframe tbody tr th {\n",
       "        vertical-align: top;\n",
       "    }\n",
       "\n",
       "    .dataframe thead th {\n",
       "        text-align: right;\n",
       "    }\n",
       "</style>\n",
       "<table border=\"1\" class=\"dataframe\">\n",
       "  <thead>\n",
       "    <tr style=\"text-align: right;\">\n",
       "      <th></th>\n",
       "      <th>자료생성년월</th>\n",
       "      <th>사업자번호</th>\n",
       "      <th>상실</th>\n",
       "    </tr>\n",
       "  </thead>\n",
       "  <tbody>\n",
       "    <tr>\n",
       "      <th>8</th>\n",
       "      <td>9</td>\n",
       "      <td>211814</td>\n",
       "      <td>2</td>\n",
       "    </tr>\n",
       "    <tr>\n",
       "      <th>18</th>\n",
       "      <td>9</td>\n",
       "      <td>201810</td>\n",
       "      <td>0</td>\n",
       "    </tr>\n",
       "    <tr>\n",
       "      <th>28</th>\n",
       "      <td>9</td>\n",
       "      <td>104810</td>\n",
       "      <td>0</td>\n",
       "    </tr>\n",
       "    <tr>\n",
       "      <th>38</th>\n",
       "      <td>9</td>\n",
       "      <td>102812</td>\n",
       "      <td>8</td>\n",
       "    </tr>\n",
       "    <tr>\n",
       "      <th>48</th>\n",
       "      <td>9</td>\n",
       "      <td>202814</td>\n",
       "      <td>2</td>\n",
       "    </tr>\n",
       "  </tbody>\n",
       "</table>\n",
       "</div>"
      ],
      "text/plain": [
       "    자료생성년월   사업자번호  상실\n",
       "8        9  211814   2\n",
       "18       9  201810   0\n",
       "28       9  104810   0\n",
       "38       9  102812   8\n",
       "48       9  202814   2"
      ]
     },
     "execution_count": 46,
     "metadata": {},
     "output_type": "execute_result"
    }
   ],
   "source": [
    "d = y.loc[y['자료생성년월'] == 9]\n",
    "d.head()"
   ]
  },
  {
   "cell_type": "code",
   "execution_count": 47,
   "id": "f7cf00b4-c46e-4d32-ab4d-4f452a37435d",
   "metadata": {},
   "outputs": [],
   "source": [
    "X_train = a #1~8월\n",
    "y_train = b #1~8월 상실자수\n",
    "X_valid = c #9월 \n",
    "y_valid = d #9월 상실자수"
   ]
  },
  {
   "cell_type": "code",
   "execution_count": 48,
   "id": "332cfcc6-d8ac-421c-a61b-a7aea0363a51",
   "metadata": {},
   "outputs": [],
   "source": [
    "model_dt = DecisionTreeClassifier()\n",
    "model_rf = RandomForestClassifier()\n",
    "model_bc = BaggingClassifier()\n",
    "model_ada = AdaBoostClassifier()"
   ]
  },
  {
   "cell_type": "code",
   "execution_count": 49,
   "id": "39987e1e-f0f3-4226-ba37-35c1d77cabad",
   "metadata": {},
   "outputs": [],
   "source": [
    "# 가입자수와 평균연봉에 따른 상실 예측\n",
    "X_train['가입자수'] = X_train['가입자수'].astype('uint32')\n",
    "X_train['평균연봉'] = X_train['평균연봉'].astype('uint32')\n",
    "y_train['상실'] = y_train['상실'].astype('uint16')\n",
    "X_valid['가입자수'] = X_valid['가입자수'].astype('uint32')\n",
    "X_valid['평균연봉'] = X_valid['평균연봉'].astype('uint32')\n",
    "y_valid['상실'] = y_valid['상실'].astype('uint16')"
   ]
  },
  {
   "cell_type": "code",
   "execution_count": 50,
   "id": "e537033a-2f8b-4bd4-a77f-4af0b6487f49",
   "metadata": {},
   "outputs": [
    {
     "name": "stdout",
     "output_type": "stream",
     "text": [
      "자료생성년월 1 8\n",
      "사업자번호 101800 910840\n",
      "상실 0 1922\n"
     ]
    }
   ],
   "source": [
    "for column in y_train.columns:\n",
    "    print(column, y_train[column].min(),y_train[column].max())"
   ]
  },
  {
   "cell_type": "code",
   "execution_count": 51,
   "id": "16f3cfa5-cf6b-4063-868d-3e7860893f8a",
   "metadata": {},
   "outputs": [],
   "source": [
    "X_train = X_train[{'가입자수','평균연봉'}]\n",
    "X_valid = X_valid[{'가입자수','평균연봉'}]"
   ]
  },
  {
   "cell_type": "code",
   "execution_count": 52,
   "id": "8cf1c435-13fc-4916-ac51-20736ce01613",
   "metadata": {},
   "outputs": [
    {
     "data": {
      "text/plain": [
       "(2836680, 2)"
      ]
     },
     "execution_count": 52,
     "metadata": {},
     "output_type": "execute_result"
    }
   ],
   "source": [
    "X_train.shape"
   ]
  },
  {
   "cell_type": "code",
   "execution_count": 53,
   "id": "ba60ecaf-b853-4d8f-bacb-b13bce200b27",
   "metadata": {},
   "outputs": [
    {
     "data": {
      "text/plain": [
       "(2836680, 3)"
      ]
     },
     "execution_count": 53,
     "metadata": {},
     "output_type": "execute_result"
    }
   ],
   "source": [
    "y_train.shape"
   ]
  },
  {
   "cell_type": "code",
   "execution_count": 54,
   "id": "70e15dd7-3a13-49e7-83d8-c034a654115f",
   "metadata": {},
   "outputs": [
    {
     "name": "stdout",
     "output_type": "stream",
     "text": [
      "12.2 s ± 759 ms per loop (mean ± std. dev. of 7 runs, 1 loop each)\n"
     ]
    }
   ],
   "source": [
    "%%timeit\n",
    "model_dt.fit(X_train,y_train.상실)\n",
    "# model_rf.fit(X_train,y_train.상실)\n",
    "# model_bc.fit(X_train,y_train.상실) \n",
    "# model_ada.fit(X_train,y_train.상실)"
   ]
  },
  {
   "cell_type": "code",
   "execution_count": 55,
   "id": "88804e32-2b76-4777-9e9b-b6410540c1a2",
   "metadata": {},
   "outputs": [],
   "source": [
    "pred = model_dt.predict(X_valid)"
   ]
  },
  {
   "cell_type": "code",
   "execution_count": 56,
   "id": "da1dd5ec-43ef-4860-af59-7b23c8d3edbe",
   "metadata": {},
   "outputs": [
    {
     "data": {
      "text/plain": [
       "array([ 1,  0,  6, ..., 26,  0,  0], dtype=uint16)"
      ]
     },
     "execution_count": 56,
     "metadata": {},
     "output_type": "execute_result"
    }
   ],
   "source": [
    "pred"
   ]
  },
  {
   "cell_type": "code",
   "execution_count": 57,
   "id": "4b9a3998-fec7-4b3f-9a31-9c81d08fb438",
   "metadata": {},
   "outputs": [],
   "source": [
    "id_1 = c.사업자번호"
   ]
  },
  {
   "cell_type": "code",
   "execution_count": 58,
   "id": "bbfdffee-dd91-484c-92c2-568563b1d662",
   "metadata": {},
   "outputs": [],
   "source": [
    "result = pd.DataFrame(id_1)\n",
    "result['상실자수'] = pred"
   ]
  },
  {
   "cell_type": "code",
   "execution_count": 59,
   "id": "294c8368-bdfd-449b-94b8-d970f4dd55cf",
   "metadata": {},
   "outputs": [
    {
     "data": {
      "text/html": [
       "<div>\n",
       "<style scoped>\n",
       "    .dataframe tbody tr th:only-of-type {\n",
       "        vertical-align: middle;\n",
       "    }\n",
       "\n",
       "    .dataframe tbody tr th {\n",
       "        vertical-align: top;\n",
       "    }\n",
       "\n",
       "    .dataframe thead th {\n",
       "        text-align: right;\n",
       "    }\n",
       "</style>\n",
       "<table border=\"1\" class=\"dataframe\">\n",
       "  <thead>\n",
       "    <tr style=\"text-align: right;\">\n",
       "      <th></th>\n",
       "      <th>사업자번호</th>\n",
       "      <th>상실자수</th>\n",
       "    </tr>\n",
       "  </thead>\n",
       "  <tbody>\n",
       "    <tr>\n",
       "      <th>8</th>\n",
       "      <td>211814</td>\n",
       "      <td>1</td>\n",
       "    </tr>\n",
       "    <tr>\n",
       "      <th>18</th>\n",
       "      <td>201810</td>\n",
       "      <td>0</td>\n",
       "    </tr>\n",
       "    <tr>\n",
       "      <th>28</th>\n",
       "      <td>104810</td>\n",
       "      <td>6</td>\n",
       "    </tr>\n",
       "    <tr>\n",
       "      <th>38</th>\n",
       "      <td>102812</td>\n",
       "      <td>10</td>\n",
       "    </tr>\n",
       "    <tr>\n",
       "      <th>48</th>\n",
       "      <td>202814</td>\n",
       "      <td>0</td>\n",
       "    </tr>\n",
       "    <tr>\n",
       "      <th>...</th>\n",
       "      <td>...</td>\n",
       "      <td>...</td>\n",
       "    </tr>\n",
       "    <tr>\n",
       "      <th>3545808</th>\n",
       "      <td>224813</td>\n",
       "      <td>0</td>\n",
       "    </tr>\n",
       "    <tr>\n",
       "      <th>3545818</th>\n",
       "      <td>120810</td>\n",
       "      <td>0</td>\n",
       "    </tr>\n",
       "    <tr>\n",
       "      <th>3545828</th>\n",
       "      <td>130810</td>\n",
       "      <td>26</td>\n",
       "    </tr>\n",
       "    <tr>\n",
       "      <th>3545838</th>\n",
       "      <td>217811</td>\n",
       "      <td>0</td>\n",
       "    </tr>\n",
       "    <tr>\n",
       "      <th>3545848</th>\n",
       "      <td>512820</td>\n",
       "      <td>0</td>\n",
       "    </tr>\n",
       "  </tbody>\n",
       "</table>\n",
       "<p>354585 rows × 2 columns</p>\n",
       "</div>"
      ],
      "text/plain": [
       "          사업자번호  상실자수\n",
       "8        211814     1\n",
       "18       201810     0\n",
       "28       104810     6\n",
       "38       102812    10\n",
       "48       202814     0\n",
       "...         ...   ...\n",
       "3545808  224813     0\n",
       "3545818  120810     0\n",
       "3545828  130810    26\n",
       "3545838  217811     0\n",
       "3545848  512820     0\n",
       "\n",
       "[354585 rows x 2 columns]"
      ]
     },
     "execution_count": 59,
     "metadata": {},
     "output_type": "execute_result"
    }
   ],
   "source": [
    "#9월 상실자수 validation\n",
    "result"
   ]
  },
  {
   "cell_type": "code",
   "execution_count": 60,
   "id": "afa0f2e5-fd70-4f3a-87a8-256fa3bac52f",
   "metadata": {},
   "outputs": [
    {
     "data": {
      "text/plain": [
       "0.7388129785523923"
      ]
     },
     "execution_count": 60,
     "metadata": {},
     "output_type": "execute_result"
    }
   ],
   "source": [
    "accuracy_score(y_valid.상실,pred) #Decision Tree"
   ]
  },
  {
   "cell_type": "markdown",
   "id": "878c204f-8507-4edf-968f-a7b41537b14b",
   "metadata": {},
   "source": [
    "## test"
   ]
  },
  {
   "cell_type": "code",
   "execution_count": 61,
   "id": "c9855d2c-577a-419b-ae9d-09fb64b0eada",
   "metadata": {},
   "outputs": [
    {
     "data": {
      "text/html": [
       "<div>\n",
       "<style scoped>\n",
       "    .dataframe tbody tr th:only-of-type {\n",
       "        vertical-align: middle;\n",
       "    }\n",
       "\n",
       "    .dataframe tbody tr th {\n",
       "        vertical-align: top;\n",
       "    }\n",
       "\n",
       "    .dataframe thead th {\n",
       "        text-align: right;\n",
       "    }\n",
       "</style>\n",
       "<table border=\"1\" class=\"dataframe\">\n",
       "  <thead>\n",
       "    <tr style=\"text-align: right;\">\n",
       "      <th></th>\n",
       "      <th>자료생성년월</th>\n",
       "      <th>사업자번호</th>\n",
       "      <th>가입자수</th>\n",
       "      <th>평균연봉</th>\n",
       "    </tr>\n",
       "  </thead>\n",
       "  <tbody>\n",
       "    <tr>\n",
       "      <th>0</th>\n",
       "      <td>1</td>\n",
       "      <td>211814</td>\n",
       "      <td>597</td>\n",
       "      <td>6007</td>\n",
       "    </tr>\n",
       "    <tr>\n",
       "      <th>1</th>\n",
       "      <td>2</td>\n",
       "      <td>211814</td>\n",
       "      <td>593</td>\n",
       "      <td>6008</td>\n",
       "    </tr>\n",
       "    <tr>\n",
       "      <th>2</th>\n",
       "      <td>3</td>\n",
       "      <td>211814</td>\n",
       "      <td>590</td>\n",
       "      <td>6005</td>\n",
       "    </tr>\n",
       "    <tr>\n",
       "      <th>3</th>\n",
       "      <td>4</td>\n",
       "      <td>211814</td>\n",
       "      <td>588</td>\n",
       "      <td>6004</td>\n",
       "    </tr>\n",
       "    <tr>\n",
       "      <th>4</th>\n",
       "      <td>5</td>\n",
       "      <td>211814</td>\n",
       "      <td>584</td>\n",
       "      <td>6000</td>\n",
       "    </tr>\n",
       "  </tbody>\n",
       "</table>\n",
       "</div>"
      ],
      "text/plain": [
       "   자료생성년월   사업자번호  가입자수  평균연봉\n",
       "0       1  211814   597  6007\n",
       "1       2  211814   593  6008\n",
       "2       3  211814   590  6005\n",
       "3       4  211814   588  6004\n",
       "4       5  211814   584  6000"
      ]
     },
     "execution_count": 61,
     "metadata": {},
     "output_type": "execute_result"
    }
   ],
   "source": [
    "q = X.loc[X['자료생성년월'] != 10]\n",
    "q.head()"
   ]
  },
  {
   "cell_type": "code",
   "execution_count": 62,
   "id": "64f78258-80ea-46c7-8968-ef12f906920f",
   "metadata": {},
   "outputs": [
    {
     "data": {
      "text/html": [
       "<div>\n",
       "<style scoped>\n",
       "    .dataframe tbody tr th:only-of-type {\n",
       "        vertical-align: middle;\n",
       "    }\n",
       "\n",
       "    .dataframe tbody tr th {\n",
       "        vertical-align: top;\n",
       "    }\n",
       "\n",
       "    .dataframe thead th {\n",
       "        text-align: right;\n",
       "    }\n",
       "</style>\n",
       "<table border=\"1\" class=\"dataframe\">\n",
       "  <thead>\n",
       "    <tr style=\"text-align: right;\">\n",
       "      <th></th>\n",
       "      <th>자료생성년월</th>\n",
       "      <th>사업자번호</th>\n",
       "      <th>상실</th>\n",
       "    </tr>\n",
       "  </thead>\n",
       "  <tbody>\n",
       "    <tr>\n",
       "      <th>0</th>\n",
       "      <td>1</td>\n",
       "      <td>211814</td>\n",
       "      <td>6</td>\n",
       "    </tr>\n",
       "    <tr>\n",
       "      <th>1</th>\n",
       "      <td>2</td>\n",
       "      <td>211814</td>\n",
       "      <td>8</td>\n",
       "    </tr>\n",
       "    <tr>\n",
       "      <th>2</th>\n",
       "      <td>3</td>\n",
       "      <td>211814</td>\n",
       "      <td>7</td>\n",
       "    </tr>\n",
       "    <tr>\n",
       "      <th>3</th>\n",
       "      <td>4</td>\n",
       "      <td>211814</td>\n",
       "      <td>6</td>\n",
       "    </tr>\n",
       "    <tr>\n",
       "      <th>4</th>\n",
       "      <td>5</td>\n",
       "      <td>211814</td>\n",
       "      <td>4</td>\n",
       "    </tr>\n",
       "  </tbody>\n",
       "</table>\n",
       "</div>"
      ],
      "text/plain": [
       "   자료생성년월   사업자번호  상실\n",
       "0       1  211814   6\n",
       "1       2  211814   8\n",
       "2       3  211814   7\n",
       "3       4  211814   6\n",
       "4       5  211814   4"
      ]
     },
     "execution_count": 62,
     "metadata": {},
     "output_type": "execute_result"
    }
   ],
   "source": [
    "w = y.loc[y['자료생성년월'] != 10]\n",
    "w.head()"
   ]
  },
  {
   "cell_type": "code",
   "execution_count": 63,
   "id": "11c8bf1d-687e-44ed-9fc9-447928195a8a",
   "metadata": {},
   "outputs": [
    {
     "data": {
      "text/html": [
       "<div>\n",
       "<style scoped>\n",
       "    .dataframe tbody tr th:only-of-type {\n",
       "        vertical-align: middle;\n",
       "    }\n",
       "\n",
       "    .dataframe tbody tr th {\n",
       "        vertical-align: top;\n",
       "    }\n",
       "\n",
       "    .dataframe thead th {\n",
       "        text-align: right;\n",
       "    }\n",
       "</style>\n",
       "<table border=\"1\" class=\"dataframe\">\n",
       "  <thead>\n",
       "    <tr style=\"text-align: right;\">\n",
       "      <th></th>\n",
       "      <th>자료생성년월</th>\n",
       "      <th>사업자번호</th>\n",
       "      <th>가입자수</th>\n",
       "      <th>평균연봉</th>\n",
       "    </tr>\n",
       "  </thead>\n",
       "  <tbody>\n",
       "    <tr>\n",
       "      <th>9</th>\n",
       "      <td>10</td>\n",
       "      <td>211814</td>\n",
       "      <td>585</td>\n",
       "      <td>6375</td>\n",
       "    </tr>\n",
       "    <tr>\n",
       "      <th>19</th>\n",
       "      <td>10</td>\n",
       "      <td>201810</td>\n",
       "      <td>19</td>\n",
       "      <td>4505</td>\n",
       "    </tr>\n",
       "    <tr>\n",
       "      <th>29</th>\n",
       "      <td>10</td>\n",
       "      <td>104810</td>\n",
       "      <td>314</td>\n",
       "      <td>5334</td>\n",
       "    </tr>\n",
       "    <tr>\n",
       "      <th>39</th>\n",
       "      <td>10</td>\n",
       "      <td>102812</td>\n",
       "      <td>846</td>\n",
       "      <td>6233</td>\n",
       "    </tr>\n",
       "    <tr>\n",
       "      <th>49</th>\n",
       "      <td>10</td>\n",
       "      <td>202814</td>\n",
       "      <td>40</td>\n",
       "      <td>4898</td>\n",
       "    </tr>\n",
       "  </tbody>\n",
       "</table>\n",
       "</div>"
      ],
      "text/plain": [
       "    자료생성년월   사업자번호  가입자수  평균연봉\n",
       "9       10  211814   585  6375\n",
       "19      10  201810    19  4505\n",
       "29      10  104810   314  5334\n",
       "39      10  102812   846  6233\n",
       "49      10  202814    40  4898"
      ]
     },
     "execution_count": 63,
     "metadata": {},
     "output_type": "execute_result"
    }
   ],
   "source": [
    "e = X.loc[X['자료생성년월'] == 10]\n",
    "e.head()"
   ]
  },
  {
   "cell_type": "code",
   "execution_count": 64,
   "id": "fe68029b-e831-4f50-8f79-38d11e4b494e",
   "metadata": {},
   "outputs": [
    {
     "data": {
      "text/html": [
       "<div>\n",
       "<style scoped>\n",
       "    .dataframe tbody tr th:only-of-type {\n",
       "        vertical-align: middle;\n",
       "    }\n",
       "\n",
       "    .dataframe tbody tr th {\n",
       "        vertical-align: top;\n",
       "    }\n",
       "\n",
       "    .dataframe thead th {\n",
       "        text-align: right;\n",
       "    }\n",
       "</style>\n",
       "<table border=\"1\" class=\"dataframe\">\n",
       "  <thead>\n",
       "    <tr style=\"text-align: right;\">\n",
       "      <th></th>\n",
       "      <th>자료생성년월</th>\n",
       "      <th>사업자번호</th>\n",
       "      <th>상실</th>\n",
       "    </tr>\n",
       "  </thead>\n",
       "  <tbody>\n",
       "    <tr>\n",
       "      <th>9</th>\n",
       "      <td>10</td>\n",
       "      <td>211814</td>\n",
       "      <td>2</td>\n",
       "    </tr>\n",
       "    <tr>\n",
       "      <th>19</th>\n",
       "      <td>10</td>\n",
       "      <td>201810</td>\n",
       "      <td>0</td>\n",
       "    </tr>\n",
       "    <tr>\n",
       "      <th>29</th>\n",
       "      <td>10</td>\n",
       "      <td>104810</td>\n",
       "      <td>5</td>\n",
       "    </tr>\n",
       "    <tr>\n",
       "      <th>39</th>\n",
       "      <td>10</td>\n",
       "      <td>102812</td>\n",
       "      <td>6</td>\n",
       "    </tr>\n",
       "    <tr>\n",
       "      <th>49</th>\n",
       "      <td>10</td>\n",
       "      <td>202814</td>\n",
       "      <td>1</td>\n",
       "    </tr>\n",
       "  </tbody>\n",
       "</table>\n",
       "</div>"
      ],
      "text/plain": [
       "    자료생성년월   사업자번호  상실\n",
       "9       10  211814   2\n",
       "19      10  201810   0\n",
       "29      10  104810   5\n",
       "39      10  102812   6\n",
       "49      10  202814   1"
      ]
     },
     "execution_count": 64,
     "metadata": {},
     "output_type": "execute_result"
    }
   ],
   "source": [
    "r = y.loc[y['자료생성년월'] == 10]\n",
    "r.head()"
   ]
  },
  {
   "cell_type": "code",
   "execution_count": 65,
   "id": "39075e61-d3ab-458a-8a17-34c9ec3e4abc",
   "metadata": {},
   "outputs": [],
   "source": [
    "X_train = q\n",
    "y_train = w\n",
    "X_test = e\n",
    "y_test = r"
   ]
  },
  {
   "cell_type": "code",
   "execution_count": 66,
   "id": "5aa2049e-99a0-4708-93ef-d51770e2edb2",
   "metadata": {},
   "outputs": [],
   "source": [
    "X_train['가입자수'] = X_train['가입자수'].astype('uint32')\n",
    "X_train['평균연봉'] = X_train['평균연봉'].astype('uint32')\n",
    "y_train['상실'] = y_train['상실'].astype('uint16')\n",
    "X_test['가입자수'] = X_test['가입자수'].astype('uint32')\n",
    "X_test['평균연봉'] = X_test['평균연봉'].astype('uint32')\n",
    "y_test['상실'] = y_test['상실'].astype('uint16')"
   ]
  },
  {
   "cell_type": "code",
   "execution_count": 67,
   "id": "6785af80-af41-45d8-940a-455928d74630",
   "metadata": {},
   "outputs": [],
   "source": [
    "X_train = X_train[{'가입자수','평균연봉'}]\n",
    "X_test = X_test[{'가입자수','평균연봉'}]"
   ]
  },
  {
   "cell_type": "code",
   "execution_count": 68,
   "id": "f98fe57b-bc57-4d05-a408-42a44c91304e",
   "metadata": {},
   "outputs": [
    {
     "data": {
      "text/plain": [
       "(3191265, 2)"
      ]
     },
     "execution_count": 68,
     "metadata": {},
     "output_type": "execute_result"
    }
   ],
   "source": [
    "X_train.shape"
   ]
  },
  {
   "cell_type": "code",
   "execution_count": 69,
   "id": "44e134b4-2d5d-4d8b-8cd5-aa475ae4a329",
   "metadata": {},
   "outputs": [
    {
     "data": {
      "text/plain": [
       "(3191265, 3)"
      ]
     },
     "execution_count": 69,
     "metadata": {},
     "output_type": "execute_result"
    }
   ],
   "source": [
    "y_train.shape"
   ]
  },
  {
   "cell_type": "code",
   "execution_count": 70,
   "id": "e2d5d624-b2d3-43e4-a9a4-9b3e813d181c",
   "metadata": {},
   "outputs": [
    {
     "name": "stdout",
     "output_type": "stream",
     "text": [
      "13 s ± 396 ms per loop (mean ± std. dev. of 7 runs, 1 loop each)\n"
     ]
    }
   ],
   "source": [
    "%%timeit\n",
    "model_dt.fit(X_train,y_train.상실)\n",
    "# model_rf.fit(X_train,y_train.상실)\n",
    "# model_bc.fit(X_train,y_train.상실) \n",
    "# model_ada.fit(X_train,y_train.상실)"
   ]
  },
  {
   "cell_type": "code",
   "execution_count": 71,
   "id": "fc579cea-f781-4272-8d23-189893724a00",
   "metadata": {},
   "outputs": [],
   "source": [
    "pred2 = model_dt.predict(X_test)"
   ]
  },
  {
   "cell_type": "code",
   "execution_count": 72,
   "id": "de87feb2-f1ec-455e-a15f-0f876aa4d546",
   "metadata": {},
   "outputs": [
    {
     "data": {
      "text/plain": [
       "array([1, 0, 5, ..., 2, 0, 0], dtype=uint16)"
      ]
     },
     "execution_count": 72,
     "metadata": {},
     "output_type": "execute_result"
    }
   ],
   "source": [
    "pred2"
   ]
  },
  {
   "cell_type": "code",
   "execution_count": 73,
   "id": "94761b0f-8def-4bdb-9d3c-c801d8c79c3f",
   "metadata": {},
   "outputs": [],
   "source": [
    "id_2 = e.사업자번호"
   ]
  },
  {
   "cell_type": "code",
   "execution_count": 74,
   "id": "77830e42-5919-4b23-a39a-9c6a921126bf",
   "metadata": {},
   "outputs": [],
   "source": [
    "result2 = pd.DataFrame(id_2)"
   ]
  },
  {
   "cell_type": "code",
   "execution_count": 75,
   "id": "de26dfae-3a9a-484a-889b-8022ac68d0dc",
   "metadata": {},
   "outputs": [],
   "source": [
    "result2['11월 퇴직자 수'] = pred2\n",
    "result2 = result2.drop(columns = '사업자번호')"
   ]
  },
  {
   "cell_type": "code",
   "execution_count": 76,
   "id": "33dc41da-8a71-4d9d-bc9d-fa1671131143",
   "metadata": {},
   "outputs": [
    {
     "data": {
      "text/html": [
       "<div>\n",
       "<style scoped>\n",
       "    .dataframe tbody tr th:only-of-type {\n",
       "        vertical-align: middle;\n",
       "    }\n",
       "\n",
       "    .dataframe tbody tr th {\n",
       "        vertical-align: top;\n",
       "    }\n",
       "\n",
       "    .dataframe thead th {\n",
       "        text-align: right;\n",
       "    }\n",
       "</style>\n",
       "<table border=\"1\" class=\"dataframe\">\n",
       "  <thead>\n",
       "    <tr style=\"text-align: right;\">\n",
       "      <th></th>\n",
       "      <th>11월 퇴직자 수</th>\n",
       "    </tr>\n",
       "  </thead>\n",
       "  <tbody>\n",
       "    <tr>\n",
       "      <th>9</th>\n",
       "      <td>1</td>\n",
       "    </tr>\n",
       "    <tr>\n",
       "      <th>19</th>\n",
       "      <td>0</td>\n",
       "    </tr>\n",
       "    <tr>\n",
       "      <th>29</th>\n",
       "      <td>5</td>\n",
       "    </tr>\n",
       "    <tr>\n",
       "      <th>39</th>\n",
       "      <td>7</td>\n",
       "    </tr>\n",
       "    <tr>\n",
       "      <th>49</th>\n",
       "      <td>0</td>\n",
       "    </tr>\n",
       "    <tr>\n",
       "      <th>...</th>\n",
       "      <td>...</td>\n",
       "    </tr>\n",
       "    <tr>\n",
       "      <th>3545809</th>\n",
       "      <td>0</td>\n",
       "    </tr>\n",
       "    <tr>\n",
       "      <th>3545819</th>\n",
       "      <td>0</td>\n",
       "    </tr>\n",
       "    <tr>\n",
       "      <th>3545829</th>\n",
       "      <td>2</td>\n",
       "    </tr>\n",
       "    <tr>\n",
       "      <th>3545839</th>\n",
       "      <td>0</td>\n",
       "    </tr>\n",
       "    <tr>\n",
       "      <th>3545849</th>\n",
       "      <td>0</td>\n",
       "    </tr>\n",
       "  </tbody>\n",
       "</table>\n",
       "<p>354585 rows × 1 columns</p>\n",
       "</div>"
      ],
      "text/plain": [
       "         11월 퇴직자 수\n",
       "9                1\n",
       "19               0\n",
       "29               5\n",
       "39               7\n",
       "49               0\n",
       "...            ...\n",
       "3545809          0\n",
       "3545819          0\n",
       "3545829          2\n",
       "3545839          0\n",
       "3545849          0\n",
       "\n",
       "[354585 rows x 1 columns]"
      ]
     },
     "execution_count": 76,
     "metadata": {},
     "output_type": "execute_result"
    }
   ],
   "source": [
    "#10월 상실자수 test\n",
    "result2"
   ]
  },
  {
   "cell_type": "code",
   "execution_count": 77,
   "id": "a349595a-7add-46f4-9b86-6977aa4a952c",
   "metadata": {},
   "outputs": [
    {
     "data": {
      "text/plain": [
       "0.732216534822398"
      ]
     },
     "execution_count": 77,
     "metadata": {},
     "output_type": "execute_result"
    }
   ],
   "source": [
    "accuracy_score(y_test.상실,pred2) #Decision Tree"
   ]
  },
  {
   "cell_type": "code",
   "execution_count": 78,
   "id": "dbd5c133-ea3a-439d-ba8b-c1044b59c940",
   "metadata": {},
   "outputs": [],
   "source": [
    "temp_data = df"
   ]
  },
  {
   "cell_type": "code",
   "execution_count": 79,
   "id": "7ed11d3f-fc94-411d-b4bf-a13d25371bbd",
   "metadata": {},
   "outputs": [
    {
     "data": {
      "text/html": [
       "<div>\n",
       "<style scoped>\n",
       "    .dataframe tbody tr th:only-of-type {\n",
       "        vertical-align: middle;\n",
       "    }\n",
       "\n",
       "    .dataframe tbody tr th {\n",
       "        vertical-align: top;\n",
       "    }\n",
       "\n",
       "    .dataframe thead th {\n",
       "        text-align: right;\n",
       "    }\n",
       "</style>\n",
       "<table border=\"1\" class=\"dataframe\">\n",
       "  <thead>\n",
       "    <tr style=\"text-align: right;\">\n",
       "      <th></th>\n",
       "      <th>자료생성년월</th>\n",
       "      <th>사업장명</th>\n",
       "      <th>사업자번호</th>\n",
       "      <th>도로명주소</th>\n",
       "      <th>업종코드명</th>\n",
       "      <th>가입자수</th>\n",
       "      <th>고지금액</th>\n",
       "      <th>신규</th>\n",
       "      <th>상실</th>\n",
       "      <th>인당고지금액</th>\n",
       "      <th>평균월급</th>\n",
       "      <th>평균연봉</th>\n",
       "      <th>key</th>\n",
       "    </tr>\n",
       "  </thead>\n",
       "  <tbody>\n",
       "    <tr>\n",
       "      <th>0</th>\n",
       "      <td>1</td>\n",
       "      <td>(주)니프코코리아</td>\n",
       "      <td>211814</td>\n",
       "      <td>충청남도 아산시 둔포면 아산밸리남로</td>\n",
       "      <td>포장용 플라스틱 성형용기 제조업</td>\n",
       "      <td>597</td>\n",
       "      <td>268966860</td>\n",
       "      <td>1</td>\n",
       "      <td>6</td>\n",
       "      <td>450530.75</td>\n",
       "      <td>501</td>\n",
       "      <td>6007</td>\n",
       "      <td>(주)니프코코리아 211814 충청남도 아산시 둔포면 아산밸리남로 포장용 플라스틱 ...</td>\n",
       "    </tr>\n",
       "    <tr>\n",
       "      <th>1</th>\n",
       "      <td>2</td>\n",
       "      <td>(주)니프코코리아</td>\n",
       "      <td>211814</td>\n",
       "      <td>충청남도 아산시 둔포면 아산밸리남로</td>\n",
       "      <td>포장용 플라스틱 성형용기 제조업</td>\n",
       "      <td>593</td>\n",
       "      <td>267215940</td>\n",
       "      <td>2</td>\n",
       "      <td>8</td>\n",
       "      <td>450617.10</td>\n",
       "      <td>501</td>\n",
       "      <td>6008</td>\n",
       "      <td>(주)니프코코리아 211814 충청남도 아산시 둔포면 아산밸리남로 포장용 플라스틱 ...</td>\n",
       "    </tr>\n",
       "    <tr>\n",
       "      <th>2</th>\n",
       "      <td>3</td>\n",
       "      <td>(주)니프코코리아</td>\n",
       "      <td>211814</td>\n",
       "      <td>충청남도 아산시 둔포면 아산밸리남로</td>\n",
       "      <td>포장용 플라스틱 성형용기 제조업</td>\n",
       "      <td>590</td>\n",
       "      <td>265736600</td>\n",
       "      <td>5</td>\n",
       "      <td>7</td>\n",
       "      <td>450401.02</td>\n",
       "      <td>500</td>\n",
       "      <td>6005</td>\n",
       "      <td>(주)니프코코리아 211814 충청남도 아산시 둔포면 아산밸리남로 포장용 플라스틱 ...</td>\n",
       "    </tr>\n",
       "    <tr>\n",
       "      <th>3</th>\n",
       "      <td>4</td>\n",
       "      <td>(주)니프코코리아</td>\n",
       "      <td>211814</td>\n",
       "      <td>충청남도 아산시 둔포면 아산밸리남로</td>\n",
       "      <td>포장용 플라스틱 성형용기 제조업</td>\n",
       "      <td>588</td>\n",
       "      <td>264774020</td>\n",
       "      <td>5</td>\n",
       "      <td>6</td>\n",
       "      <td>450295.95</td>\n",
       "      <td>500</td>\n",
       "      <td>6004</td>\n",
       "      <td>(주)니프코코리아 211814 충청남도 아산시 둔포면 아산밸리남로 포장용 플라스틱 ...</td>\n",
       "    </tr>\n",
       "    <tr>\n",
       "      <th>4</th>\n",
       "      <td>5</td>\n",
       "      <td>(주)니프코코리아</td>\n",
       "      <td>211814</td>\n",
       "      <td>충청남도 아산시 둔포면 아산밸리남로</td>\n",
       "      <td>포장용 플라스틱 성형용기 제조업</td>\n",
       "      <td>584</td>\n",
       "      <td>262790600</td>\n",
       "      <td>2</td>\n",
       "      <td>4</td>\n",
       "      <td>449983.90</td>\n",
       "      <td>500</td>\n",
       "      <td>6000</td>\n",
       "      <td>(주)니프코코리아 211814 충청남도 아산시 둔포면 아산밸리남로 포장용 플라스틱 ...</td>\n",
       "    </tr>\n",
       "  </tbody>\n",
       "</table>\n",
       "</div>"
      ],
      "text/plain": [
       "   자료생성년월       사업장명   사업자번호                도로명주소              업종코드명  가입자수  \\\n",
       "0       1  (주)니프코코리아  211814  충청남도 아산시 둔포면 아산밸리남로  포장용 플라스틱 성형용기 제조업   597   \n",
       "1       2  (주)니프코코리아  211814  충청남도 아산시 둔포면 아산밸리남로  포장용 플라스틱 성형용기 제조업   593   \n",
       "2       3  (주)니프코코리아  211814  충청남도 아산시 둔포면 아산밸리남로  포장용 플라스틱 성형용기 제조업   590   \n",
       "3       4  (주)니프코코리아  211814  충청남도 아산시 둔포면 아산밸리남로  포장용 플라스틱 성형용기 제조업   588   \n",
       "4       5  (주)니프코코리아  211814  충청남도 아산시 둔포면 아산밸리남로  포장용 플라스틱 성형용기 제조업   584   \n",
       "\n",
       "        고지금액  신규  상실    인당고지금액  평균월급  평균연봉  \\\n",
       "0  268966860   1   6 450530.75   501  6007   \n",
       "1  267215940   2   8 450617.10   501  6008   \n",
       "2  265736600   5   7 450401.02   500  6005   \n",
       "3  264774020   5   6 450295.95   500  6004   \n",
       "4  262790600   2   4 449983.90   500  6000   \n",
       "\n",
       "                                                 key  \n",
       "0  (주)니프코코리아 211814 충청남도 아산시 둔포면 아산밸리남로 포장용 플라스틱 ...  \n",
       "1  (주)니프코코리아 211814 충청남도 아산시 둔포면 아산밸리남로 포장용 플라스틱 ...  \n",
       "2  (주)니프코코리아 211814 충청남도 아산시 둔포면 아산밸리남로 포장용 플라스틱 ...  \n",
       "3  (주)니프코코리아 211814 충청남도 아산시 둔포면 아산밸리남로 포장용 플라스틱 ...  \n",
       "4  (주)니프코코리아 211814 충청남도 아산시 둔포면 아산밸리남로 포장용 플라스틱 ...  "
      ]
     },
     "execution_count": 79,
     "metadata": {},
     "output_type": "execute_result"
    }
   ],
   "source": [
    "cols = ['사업장명', '사업자번호', '도로명주소','업종코드명']\n",
    "temp_data['key'] = temp_data[cols].apply(lambda row: ' '.join(row.values.astype(str)), axis=1)\n",
    "temp_data.head()"
   ]
  },
  {
   "cell_type": "code",
   "execution_count": 80,
   "id": "fa40f733-d4df-4c11-ae59-d1fc3c6a62fd",
   "metadata": {},
   "outputs": [
    {
     "data": {
      "text/html": [
       "<div>\n",
       "<style scoped>\n",
       "    .dataframe tbody tr th:only-of-type {\n",
       "        vertical-align: middle;\n",
       "    }\n",
       "\n",
       "    .dataframe tbody tr th {\n",
       "        vertical-align: top;\n",
       "    }\n",
       "\n",
       "    .dataframe thead th {\n",
       "        text-align: right;\n",
       "    }\n",
       "</style>\n",
       "<table border=\"1\" class=\"dataframe\">\n",
       "  <thead>\n",
       "    <tr style=\"text-align: right;\">\n",
       "      <th></th>\n",
       "      <th>업종코드명</th>\n",
       "      <th>사업자번호</th>\n",
       "      <th>사업장명</th>\n",
       "      <th>도로명주소</th>\n",
       "      <th>key</th>\n",
       "    </tr>\n",
       "  </thead>\n",
       "  <tbody>\n",
       "    <tr>\n",
       "      <th>9</th>\n",
       "      <td>포장용 플라스틱 성형용기 제조업</td>\n",
       "      <td>211814</td>\n",
       "      <td>(주)니프코코리아</td>\n",
       "      <td>충청남도 아산시 둔포면 아산밸리남로</td>\n",
       "      <td>(주)니프코코리아 211814 충청남도 아산시 둔포면 아산밸리남로 포장용 플라스틱 ...</td>\n",
       "    </tr>\n",
       "    <tr>\n",
       "      <th>19</th>\n",
       "      <td>기타</td>\n",
       "      <td>201810</td>\n",
       "      <td>신일기업(주)</td>\n",
       "      <td>서울특별시 중구 퇴계로</td>\n",
       "      <td>신일기업(주) 201810 서울특별시 중구 퇴계로 기타</td>\n",
       "    </tr>\n",
       "    <tr>\n",
       "      <th>29</th>\n",
       "      <td>잡지 및 정기 간행물 발행업</td>\n",
       "      <td>104810</td>\n",
       "      <td>(주)헤럴드</td>\n",
       "      <td>서울특별시 용산구 후암로4길</td>\n",
       "      <td>(주)헤럴드 104810 서울특별시 용산구 후암로4길 잡지 및 정기 간행물 발행업</td>\n",
       "    </tr>\n",
       "    <tr>\n",
       "      <th>39</th>\n",
       "      <td>잡지 및 정기 간행물 발행업</td>\n",
       "      <td>102812</td>\n",
       "      <td>연합뉴스(주)</td>\n",
       "      <td>서울특별시 종로구 율곡로2길</td>\n",
       "      <td>연합뉴스(주) 102812 서울특별시 종로구 율곡로2길 잡지 및 정기 간행물 발행업</td>\n",
       "    </tr>\n",
       "    <tr>\n",
       "      <th>49</th>\n",
       "      <td>내륙 수상 여객 및 화물 운송업</td>\n",
       "      <td>202814</td>\n",
       "      <td>협성해운(주)</td>\n",
       "      <td>서울특별시 중구 을지로</td>\n",
       "      <td>협성해운(주) 202814 서울특별시 중구 을지로 내륙 수상 여객 및 화물 운송업</td>\n",
       "    </tr>\n",
       "  </tbody>\n",
       "</table>\n",
       "</div>"
      ],
      "text/plain": [
       "                업종코드명   사업자번호       사업장명                도로명주소  \\\n",
       "9   포장용 플라스틱 성형용기 제조업  211814  (주)니프코코리아  충청남도 아산시 둔포면 아산밸리남로   \n",
       "19                 기타  201810    신일기업(주)         서울특별시 중구 퇴계로   \n",
       "29    잡지 및 정기 간행물 발행업  104810     (주)헤럴드      서울특별시 용산구 후암로4길   \n",
       "39    잡지 및 정기 간행물 발행업  102812    연합뉴스(주)      서울특별시 종로구 율곡로2길   \n",
       "49  내륙 수상 여객 및 화물 운송업  202814    협성해운(주)         서울특별시 중구 을지로   \n",
       "\n",
       "                                                  key  \n",
       "9   (주)니프코코리아 211814 충청남도 아산시 둔포면 아산밸리남로 포장용 플라스틱 ...  \n",
       "19                     신일기업(주) 201810 서울특별시 중구 퇴계로 기타  \n",
       "29      (주)헤럴드 104810 서울특별시 용산구 후암로4길 잡지 및 정기 간행물 발행업  \n",
       "39     연합뉴스(주) 102812 서울특별시 종로구 율곡로2길 잡지 및 정기 간행물 발행업  \n",
       "49      협성해운(주) 202814 서울특별시 중구 을지로 내륙 수상 여객 및 화물 운송업  "
      ]
     },
     "execution_count": 80,
     "metadata": {},
     "output_type": "execute_result"
    }
   ],
   "source": [
    "temp_data = temp_data.loc[temp_data['자료생성년월'] == 10]\n",
    "temp_data = temp_data[{'사업장명','사업자번호','업종코드명','도로명주소','key'}]\n",
    "temp_data.head()"
   ]
  },
  {
   "cell_type": "code",
   "execution_count": 81,
   "id": "d88106fd-47f2-4c50-b3a5-a3920c262382",
   "metadata": {},
   "outputs": [],
   "source": [
    "final_data = pd.concat([temp_data,result2],axis=1)\n",
    "final_data = final_data[['사업장명','사업자번호','도로명주소','업종코드명','11월 퇴직자 수','key']]"
   ]
  },
  {
   "cell_type": "code",
   "execution_count": 82,
   "id": "1bdcde2c-11e4-4f4b-9ba0-75fd632b96bc",
   "metadata": {},
   "outputs": [
    {
     "data": {
      "text/html": [
       "<div>\n",
       "<style scoped>\n",
       "    .dataframe tbody tr th:only-of-type {\n",
       "        vertical-align: middle;\n",
       "    }\n",
       "\n",
       "    .dataframe tbody tr th {\n",
       "        vertical-align: top;\n",
       "    }\n",
       "\n",
       "    .dataframe thead th {\n",
       "        text-align: right;\n",
       "    }\n",
       "</style>\n",
       "<table border=\"1\" class=\"dataframe\">\n",
       "  <thead>\n",
       "    <tr style=\"text-align: right;\">\n",
       "      <th></th>\n",
       "      <th>사업장명</th>\n",
       "      <th>사업자번호</th>\n",
       "      <th>도로명주소</th>\n",
       "      <th>업종코드명</th>\n",
       "      <th>11월 퇴직자 수</th>\n",
       "      <th>key</th>\n",
       "    </tr>\n",
       "  </thead>\n",
       "  <tbody>\n",
       "    <tr>\n",
       "      <th>9</th>\n",
       "      <td>(주)니프코코리아</td>\n",
       "      <td>211814</td>\n",
       "      <td>충청남도 아산시 둔포면 아산밸리남로</td>\n",
       "      <td>포장용 플라스틱 성형용기 제조업</td>\n",
       "      <td>1</td>\n",
       "      <td>(주)니프코코리아 211814 충청남도 아산시 둔포면 아산밸리남로 포장용 플라스틱 ...</td>\n",
       "    </tr>\n",
       "    <tr>\n",
       "      <th>19</th>\n",
       "      <td>신일기업(주)</td>\n",
       "      <td>201810</td>\n",
       "      <td>서울특별시 중구 퇴계로</td>\n",
       "      <td>기타</td>\n",
       "      <td>0</td>\n",
       "      <td>신일기업(주) 201810 서울특별시 중구 퇴계로 기타</td>\n",
       "    </tr>\n",
       "    <tr>\n",
       "      <th>29</th>\n",
       "      <td>(주)헤럴드</td>\n",
       "      <td>104810</td>\n",
       "      <td>서울특별시 용산구 후암로4길</td>\n",
       "      <td>잡지 및 정기 간행물 발행업</td>\n",
       "      <td>5</td>\n",
       "      <td>(주)헤럴드 104810 서울특별시 용산구 후암로4길 잡지 및 정기 간행물 발행업</td>\n",
       "    </tr>\n",
       "    <tr>\n",
       "      <th>39</th>\n",
       "      <td>연합뉴스(주)</td>\n",
       "      <td>102812</td>\n",
       "      <td>서울특별시 종로구 율곡로2길</td>\n",
       "      <td>잡지 및 정기 간행물 발행업</td>\n",
       "      <td>7</td>\n",
       "      <td>연합뉴스(주) 102812 서울특별시 종로구 율곡로2길 잡지 및 정기 간행물 발행업</td>\n",
       "    </tr>\n",
       "    <tr>\n",
       "      <th>49</th>\n",
       "      <td>협성해운(주)</td>\n",
       "      <td>202814</td>\n",
       "      <td>서울특별시 중구 을지로</td>\n",
       "      <td>내륙 수상 여객 및 화물 운송업</td>\n",
       "      <td>0</td>\n",
       "      <td>협성해운(주) 202814 서울특별시 중구 을지로 내륙 수상 여객 및 화물 운송업</td>\n",
       "    </tr>\n",
       "  </tbody>\n",
       "</table>\n",
       "</div>"
      ],
      "text/plain": [
       "         사업장명   사업자번호                도로명주소              업종코드명  11월 퇴직자 수  \\\n",
       "9   (주)니프코코리아  211814  충청남도 아산시 둔포면 아산밸리남로  포장용 플라스틱 성형용기 제조업          1   \n",
       "19    신일기업(주)  201810         서울특별시 중구 퇴계로                 기타          0   \n",
       "29     (주)헤럴드  104810      서울특별시 용산구 후암로4길    잡지 및 정기 간행물 발행업          5   \n",
       "39    연합뉴스(주)  102812      서울특별시 종로구 율곡로2길    잡지 및 정기 간행물 발행업          7   \n",
       "49    협성해운(주)  202814         서울특별시 중구 을지로  내륙 수상 여객 및 화물 운송업          0   \n",
       "\n",
       "                                                  key  \n",
       "9   (주)니프코코리아 211814 충청남도 아산시 둔포면 아산밸리남로 포장용 플라스틱 ...  \n",
       "19                     신일기업(주) 201810 서울특별시 중구 퇴계로 기타  \n",
       "29      (주)헤럴드 104810 서울특별시 용산구 후암로4길 잡지 및 정기 간행물 발행업  \n",
       "39     연합뉴스(주) 102812 서울특별시 종로구 율곡로2길 잡지 및 정기 간행물 발행업  \n",
       "49      협성해운(주) 202814 서울특별시 중구 을지로 내륙 수상 여객 및 화물 운송업  "
      ]
     },
     "execution_count": 82,
     "metadata": {},
     "output_type": "execute_result"
    }
   ],
   "source": [
    "final_data.head()"
   ]
  },
  {
   "cell_type": "code",
   "execution_count": 83,
   "id": "c8acd1eb-2469-437b-b7bf-c950254d96a0",
   "metadata": {},
   "outputs": [
    {
     "data": {
      "text/html": [
       "<div>\n",
       "<style scoped>\n",
       "    .dataframe tbody tr th:only-of-type {\n",
       "        vertical-align: middle;\n",
       "    }\n",
       "\n",
       "    .dataframe tbody tr th {\n",
       "        vertical-align: top;\n",
       "    }\n",
       "\n",
       "    .dataframe thead th {\n",
       "        text-align: right;\n",
       "    }\n",
       "</style>\n",
       "<table border=\"1\" class=\"dataframe\">\n",
       "  <thead>\n",
       "    <tr style=\"text-align: right;\">\n",
       "      <th></th>\n",
       "      <th>자료생성년월</th>\n",
       "      <th>사업장명</th>\n",
       "      <th>사업자번호</th>\n",
       "      <th>도로명주소</th>\n",
       "      <th>업종코드명</th>\n",
       "      <th>가입자수</th>\n",
       "      <th>고지금액</th>\n",
       "      <th>신규</th>\n",
       "      <th>상실</th>\n",
       "      <th>인당고지금액</th>\n",
       "      <th>평균월급</th>\n",
       "      <th>평균연봉</th>\n",
       "      <th>key</th>\n",
       "    </tr>\n",
       "  </thead>\n",
       "  <tbody>\n",
       "    <tr>\n",
       "      <th>0</th>\n",
       "      <td>1</td>\n",
       "      <td>(주)니프코코리아</td>\n",
       "      <td>211814</td>\n",
       "      <td>충청남도 아산시 둔포면 아산밸리남로</td>\n",
       "      <td>포장용 플라스틱 성형용기 제조업</td>\n",
       "      <td>597</td>\n",
       "      <td>268966860</td>\n",
       "      <td>1</td>\n",
       "      <td>6</td>\n",
       "      <td>450530.75</td>\n",
       "      <td>501</td>\n",
       "      <td>6007</td>\n",
       "      <td>(주)니프코코리아 211814 충청남도 아산시 둔포면 아산밸리남로 포장용 플라스틱 ...</td>\n",
       "    </tr>\n",
       "    <tr>\n",
       "      <th>1</th>\n",
       "      <td>2</td>\n",
       "      <td>(주)니프코코리아</td>\n",
       "      <td>211814</td>\n",
       "      <td>충청남도 아산시 둔포면 아산밸리남로</td>\n",
       "      <td>포장용 플라스틱 성형용기 제조업</td>\n",
       "      <td>593</td>\n",
       "      <td>267215940</td>\n",
       "      <td>2</td>\n",
       "      <td>8</td>\n",
       "      <td>450617.10</td>\n",
       "      <td>501</td>\n",
       "      <td>6008</td>\n",
       "      <td>(주)니프코코리아 211814 충청남도 아산시 둔포면 아산밸리남로 포장용 플라스틱 ...</td>\n",
       "    </tr>\n",
       "    <tr>\n",
       "      <th>2</th>\n",
       "      <td>3</td>\n",
       "      <td>(주)니프코코리아</td>\n",
       "      <td>211814</td>\n",
       "      <td>충청남도 아산시 둔포면 아산밸리남로</td>\n",
       "      <td>포장용 플라스틱 성형용기 제조업</td>\n",
       "      <td>590</td>\n",
       "      <td>265736600</td>\n",
       "      <td>5</td>\n",
       "      <td>7</td>\n",
       "      <td>450401.02</td>\n",
       "      <td>500</td>\n",
       "      <td>6005</td>\n",
       "      <td>(주)니프코코리아 211814 충청남도 아산시 둔포면 아산밸리남로 포장용 플라스틱 ...</td>\n",
       "    </tr>\n",
       "    <tr>\n",
       "      <th>3</th>\n",
       "      <td>4</td>\n",
       "      <td>(주)니프코코리아</td>\n",
       "      <td>211814</td>\n",
       "      <td>충청남도 아산시 둔포면 아산밸리남로</td>\n",
       "      <td>포장용 플라스틱 성형용기 제조업</td>\n",
       "      <td>588</td>\n",
       "      <td>264774020</td>\n",
       "      <td>5</td>\n",
       "      <td>6</td>\n",
       "      <td>450295.95</td>\n",
       "      <td>500</td>\n",
       "      <td>6004</td>\n",
       "      <td>(주)니프코코리아 211814 충청남도 아산시 둔포면 아산밸리남로 포장용 플라스틱 ...</td>\n",
       "    </tr>\n",
       "    <tr>\n",
       "      <th>4</th>\n",
       "      <td>5</td>\n",
       "      <td>(주)니프코코리아</td>\n",
       "      <td>211814</td>\n",
       "      <td>충청남도 아산시 둔포면 아산밸리남로</td>\n",
       "      <td>포장용 플라스틱 성형용기 제조업</td>\n",
       "      <td>584</td>\n",
       "      <td>262790600</td>\n",
       "      <td>2</td>\n",
       "      <td>4</td>\n",
       "      <td>449983.90</td>\n",
       "      <td>500</td>\n",
       "      <td>6000</td>\n",
       "      <td>(주)니프코코리아 211814 충청남도 아산시 둔포면 아산밸리남로 포장용 플라스틱 ...</td>\n",
       "    </tr>\n",
       "  </tbody>\n",
       "</table>\n",
       "</div>"
      ],
      "text/plain": [
       "   자료생성년월       사업장명   사업자번호                도로명주소              업종코드명  가입자수  \\\n",
       "0       1  (주)니프코코리아  211814  충청남도 아산시 둔포면 아산밸리남로  포장용 플라스틱 성형용기 제조업   597   \n",
       "1       2  (주)니프코코리아  211814  충청남도 아산시 둔포면 아산밸리남로  포장용 플라스틱 성형용기 제조업   593   \n",
       "2       3  (주)니프코코리아  211814  충청남도 아산시 둔포면 아산밸리남로  포장용 플라스틱 성형용기 제조업   590   \n",
       "3       4  (주)니프코코리아  211814  충청남도 아산시 둔포면 아산밸리남로  포장용 플라스틱 성형용기 제조업   588   \n",
       "4       5  (주)니프코코리아  211814  충청남도 아산시 둔포면 아산밸리남로  포장용 플라스틱 성형용기 제조업   584   \n",
       "\n",
       "        고지금액  신규  상실    인당고지금액  평균월급  평균연봉  \\\n",
       "0  268966860   1   6 450530.75   501  6007   \n",
       "1  267215940   2   8 450617.10   501  6008   \n",
       "2  265736600   5   7 450401.02   500  6005   \n",
       "3  264774020   5   6 450295.95   500  6004   \n",
       "4  262790600   2   4 449983.90   500  6000   \n",
       "\n",
       "                                                 key  \n",
       "0  (주)니프코코리아 211814 충청남도 아산시 둔포면 아산밸리남로 포장용 플라스틱 ...  \n",
       "1  (주)니프코코리아 211814 충청남도 아산시 둔포면 아산밸리남로 포장용 플라스틱 ...  \n",
       "2  (주)니프코코리아 211814 충청남도 아산시 둔포면 아산밸리남로 포장용 플라스틱 ...  \n",
       "3  (주)니프코코리아 211814 충청남도 아산시 둔포면 아산밸리남로 포장용 플라스틱 ...  \n",
       "4  (주)니프코코리아 211814 충청남도 아산시 둔포면 아산밸리남로 포장용 플라스틱 ...  "
      ]
     },
     "execution_count": 83,
     "metadata": {},
     "output_type": "execute_result"
    }
   ],
   "source": [
    "df.head()"
   ]
  },
  {
   "cell_type": "code",
   "execution_count": 84,
   "id": "b0f480fb-7ca3-4a00-b627-d784ec1b6a71",
   "metadata": {},
   "outputs": [
    {
     "data": {
      "text/html": [
       "<div>\n",
       "<style scoped>\n",
       "    .dataframe tbody tr th:only-of-type {\n",
       "        vertical-align: middle;\n",
       "    }\n",
       "\n",
       "    .dataframe tbody tr th {\n",
       "        vertical-align: top;\n",
       "    }\n",
       "\n",
       "    .dataframe thead th {\n",
       "        text-align: right;\n",
       "    }\n",
       "</style>\n",
       "<table border=\"1\" class=\"dataframe\">\n",
       "  <thead>\n",
       "    <tr style=\"text-align: right;\">\n",
       "      <th></th>\n",
       "      <th>자료생성년월</th>\n",
       "      <th>사업장명</th>\n",
       "      <th>사업자번호</th>\n",
       "      <th>도로명주소</th>\n",
       "      <th>업종코드명</th>\n",
       "      <th>가입자수</th>\n",
       "      <th>신규</th>\n",
       "      <th>상실</th>\n",
       "      <th>평균월급</th>\n",
       "      <th>평균연봉</th>\n",
       "      <th>key</th>\n",
       "    </tr>\n",
       "  </thead>\n",
       "  <tbody>\n",
       "    <tr>\n",
       "      <th>0</th>\n",
       "      <td>1</td>\n",
       "      <td>(주)니프코코리아</td>\n",
       "      <td>211814</td>\n",
       "      <td>충청남도 아산시 둔포면 아산밸리남로</td>\n",
       "      <td>포장용 플라스틱 성형용기 제조업</td>\n",
       "      <td>597</td>\n",
       "      <td>1</td>\n",
       "      <td>6</td>\n",
       "      <td>501</td>\n",
       "      <td>6007</td>\n",
       "      <td>(주)니프코코리아 211814 충청남도 아산시 둔포면 아산밸리남로 포장용 플라스틱 ...</td>\n",
       "    </tr>\n",
       "    <tr>\n",
       "      <th>1</th>\n",
       "      <td>2</td>\n",
       "      <td>(주)니프코코리아</td>\n",
       "      <td>211814</td>\n",
       "      <td>충청남도 아산시 둔포면 아산밸리남로</td>\n",
       "      <td>포장용 플라스틱 성형용기 제조업</td>\n",
       "      <td>593</td>\n",
       "      <td>2</td>\n",
       "      <td>8</td>\n",
       "      <td>501</td>\n",
       "      <td>6008</td>\n",
       "      <td>(주)니프코코리아 211814 충청남도 아산시 둔포면 아산밸리남로 포장용 플라스틱 ...</td>\n",
       "    </tr>\n",
       "    <tr>\n",
       "      <th>2</th>\n",
       "      <td>3</td>\n",
       "      <td>(주)니프코코리아</td>\n",
       "      <td>211814</td>\n",
       "      <td>충청남도 아산시 둔포면 아산밸리남로</td>\n",
       "      <td>포장용 플라스틱 성형용기 제조업</td>\n",
       "      <td>590</td>\n",
       "      <td>5</td>\n",
       "      <td>7</td>\n",
       "      <td>500</td>\n",
       "      <td>6005</td>\n",
       "      <td>(주)니프코코리아 211814 충청남도 아산시 둔포면 아산밸리남로 포장용 플라스틱 ...</td>\n",
       "    </tr>\n",
       "    <tr>\n",
       "      <th>3</th>\n",
       "      <td>4</td>\n",
       "      <td>(주)니프코코리아</td>\n",
       "      <td>211814</td>\n",
       "      <td>충청남도 아산시 둔포면 아산밸리남로</td>\n",
       "      <td>포장용 플라스틱 성형용기 제조업</td>\n",
       "      <td>588</td>\n",
       "      <td>5</td>\n",
       "      <td>6</td>\n",
       "      <td>500</td>\n",
       "      <td>6004</td>\n",
       "      <td>(주)니프코코리아 211814 충청남도 아산시 둔포면 아산밸리남로 포장용 플라스틱 ...</td>\n",
       "    </tr>\n",
       "    <tr>\n",
       "      <th>4</th>\n",
       "      <td>5</td>\n",
       "      <td>(주)니프코코리아</td>\n",
       "      <td>211814</td>\n",
       "      <td>충청남도 아산시 둔포면 아산밸리남로</td>\n",
       "      <td>포장용 플라스틱 성형용기 제조업</td>\n",
       "      <td>584</td>\n",
       "      <td>2</td>\n",
       "      <td>4</td>\n",
       "      <td>500</td>\n",
       "      <td>6000</td>\n",
       "      <td>(주)니프코코리아 211814 충청남도 아산시 둔포면 아산밸리남로 포장용 플라스틱 ...</td>\n",
       "    </tr>\n",
       "  </tbody>\n",
       "</table>\n",
       "</div>"
      ],
      "text/plain": [
       "   자료생성년월       사업장명   사업자번호                도로명주소              업종코드명  가입자수  \\\n",
       "0       1  (주)니프코코리아  211814  충청남도 아산시 둔포면 아산밸리남로  포장용 플라스틱 성형용기 제조업   597   \n",
       "1       2  (주)니프코코리아  211814  충청남도 아산시 둔포면 아산밸리남로  포장용 플라스틱 성형용기 제조업   593   \n",
       "2       3  (주)니프코코리아  211814  충청남도 아산시 둔포면 아산밸리남로  포장용 플라스틱 성형용기 제조업   590   \n",
       "3       4  (주)니프코코리아  211814  충청남도 아산시 둔포면 아산밸리남로  포장용 플라스틱 성형용기 제조업   588   \n",
       "4       5  (주)니프코코리아  211814  충청남도 아산시 둔포면 아산밸리남로  포장용 플라스틱 성형용기 제조업   584   \n",
       "\n",
       "   신규  상실  평균월급  평균연봉                                                key  \n",
       "0   1   6   501  6007  (주)니프코코리아 211814 충청남도 아산시 둔포면 아산밸리남로 포장용 플라스틱 ...  \n",
       "1   2   8   501  6008  (주)니프코코리아 211814 충청남도 아산시 둔포면 아산밸리남로 포장용 플라스틱 ...  \n",
       "2   5   7   500  6005  (주)니프코코리아 211814 충청남도 아산시 둔포면 아산밸리남로 포장용 플라스틱 ...  \n",
       "3   5   6   500  6004  (주)니프코코리아 211814 충청남도 아산시 둔포면 아산밸리남로 포장용 플라스틱 ...  \n",
       "4   2   4   500  6000  (주)니프코코리아 211814 충청남도 아산시 둔포면 아산밸리남로 포장용 플라스틱 ...  "
      ]
     },
     "execution_count": 84,
     "metadata": {},
     "output_type": "execute_result"
    }
   ],
   "source": [
    "alldata = df.drop(columns = ['고지금액','인당고지금액'])\n",
    "alldata.head()"
   ]
  },
  {
   "cell_type": "code",
   "execution_count": 85,
   "id": "33c54e0e-c0c1-4ea8-b5f6-c8c7d26f9214",
   "metadata": {},
   "outputs": [
    {
     "data": {
      "text/html": [
       "<div>\n",
       "<style scoped>\n",
       "    .dataframe tbody tr th:only-of-type {\n",
       "        vertical-align: middle;\n",
       "    }\n",
       "\n",
       "    .dataframe tbody tr th {\n",
       "        vertical-align: top;\n",
       "    }\n",
       "\n",
       "    .dataframe thead th {\n",
       "        text-align: right;\n",
       "    }\n",
       "</style>\n",
       "<table border=\"1\" class=\"dataframe\">\n",
       "  <thead>\n",
       "    <tr style=\"text-align: right;\">\n",
       "      <th></th>\n",
       "      <th>자료생성년월</th>\n",
       "      <th>사업장명</th>\n",
       "      <th>사업자번호</th>\n",
       "      <th>도로명주소</th>\n",
       "      <th>업종코드명</th>\n",
       "      <th>가입자수</th>\n",
       "      <th>신규</th>\n",
       "      <th>상실</th>\n",
       "      <th>평균월급</th>\n",
       "      <th>평균연봉</th>\n",
       "      <th>key</th>\n",
       "    </tr>\n",
       "  </thead>\n",
       "  <tbody>\n",
       "    <tr>\n",
       "      <th>0</th>\n",
       "      <td>1</td>\n",
       "      <td>(주)니프코코리아</td>\n",
       "      <td>211814</td>\n",
       "      <td>충청남도 아산시 둔포면 아산밸리남로</td>\n",
       "      <td>포장용 플라스틱 성형용기 제조업</td>\n",
       "      <td>597</td>\n",
       "      <td>1</td>\n",
       "      <td>6</td>\n",
       "      <td>501</td>\n",
       "      <td>6007</td>\n",
       "      <td>(주)니프코코리아 211814 충청남도 아산시 둔포면 아산밸리남로 포장용 플라스틱 ...</td>\n",
       "    </tr>\n",
       "    <tr>\n",
       "      <th>1</th>\n",
       "      <td>2</td>\n",
       "      <td>(주)니프코코리아</td>\n",
       "      <td>211814</td>\n",
       "      <td>충청남도 아산시 둔포면 아산밸리남로</td>\n",
       "      <td>포장용 플라스틱 성형용기 제조업</td>\n",
       "      <td>593</td>\n",
       "      <td>2</td>\n",
       "      <td>8</td>\n",
       "      <td>501</td>\n",
       "      <td>6008</td>\n",
       "      <td>(주)니프코코리아 211814 충청남도 아산시 둔포면 아산밸리남로 포장용 플라스틱 ...</td>\n",
       "    </tr>\n",
       "    <tr>\n",
       "      <th>2</th>\n",
       "      <td>3</td>\n",
       "      <td>(주)니프코코리아</td>\n",
       "      <td>211814</td>\n",
       "      <td>충청남도 아산시 둔포면 아산밸리남로</td>\n",
       "      <td>포장용 플라스틱 성형용기 제조업</td>\n",
       "      <td>590</td>\n",
       "      <td>5</td>\n",
       "      <td>7</td>\n",
       "      <td>500</td>\n",
       "      <td>6005</td>\n",
       "      <td>(주)니프코코리아 211814 충청남도 아산시 둔포면 아산밸리남로 포장용 플라스틱 ...</td>\n",
       "    </tr>\n",
       "    <tr>\n",
       "      <th>3</th>\n",
       "      <td>4</td>\n",
       "      <td>(주)니프코코리아</td>\n",
       "      <td>211814</td>\n",
       "      <td>충청남도 아산시 둔포면 아산밸리남로</td>\n",
       "      <td>포장용 플라스틱 성형용기 제조업</td>\n",
       "      <td>588</td>\n",
       "      <td>5</td>\n",
       "      <td>6</td>\n",
       "      <td>500</td>\n",
       "      <td>6004</td>\n",
       "      <td>(주)니프코코리아 211814 충청남도 아산시 둔포면 아산밸리남로 포장용 플라스틱 ...</td>\n",
       "    </tr>\n",
       "    <tr>\n",
       "      <th>4</th>\n",
       "      <td>5</td>\n",
       "      <td>(주)니프코코리아</td>\n",
       "      <td>211814</td>\n",
       "      <td>충청남도 아산시 둔포면 아산밸리남로</td>\n",
       "      <td>포장용 플라스틱 성형용기 제조업</td>\n",
       "      <td>584</td>\n",
       "      <td>2</td>\n",
       "      <td>4</td>\n",
       "      <td>500</td>\n",
       "      <td>6000</td>\n",
       "      <td>(주)니프코코리아 211814 충청남도 아산시 둔포면 아산밸리남로 포장용 플라스틱 ...</td>\n",
       "    </tr>\n",
       "  </tbody>\n",
       "</table>\n",
       "</div>"
      ],
      "text/plain": [
       "   자료생성년월       사업장명   사업자번호                도로명주소              업종코드명  가입자수  \\\n",
       "0       1  (주)니프코코리아  211814  충청남도 아산시 둔포면 아산밸리남로  포장용 플라스틱 성형용기 제조업   597   \n",
       "1       2  (주)니프코코리아  211814  충청남도 아산시 둔포면 아산밸리남로  포장용 플라스틱 성형용기 제조업   593   \n",
       "2       3  (주)니프코코리아  211814  충청남도 아산시 둔포면 아산밸리남로  포장용 플라스틱 성형용기 제조업   590   \n",
       "3       4  (주)니프코코리아  211814  충청남도 아산시 둔포면 아산밸리남로  포장용 플라스틱 성형용기 제조업   588   \n",
       "4       5  (주)니프코코리아  211814  충청남도 아산시 둔포면 아산밸리남로  포장용 플라스틱 성형용기 제조업   584   \n",
       "\n",
       "   신규  상실  평균월급  평균연봉                                                key  \n",
       "0   1   6   501  6007  (주)니프코코리아 211814 충청남도 아산시 둔포면 아산밸리남로 포장용 플라스틱 ...  \n",
       "1   2   8   501  6008  (주)니프코코리아 211814 충청남도 아산시 둔포면 아산밸리남로 포장용 플라스틱 ...  \n",
       "2   5   7   500  6005  (주)니프코코리아 211814 충청남도 아산시 둔포면 아산밸리남로 포장용 플라스틱 ...  \n",
       "3   5   6   500  6004  (주)니프코코리아 211814 충청남도 아산시 둔포면 아산밸리남로 포장용 플라스틱 ...  \n",
       "4   2   4   500  6000  (주)니프코코리아 211814 충청남도 아산시 둔포면 아산밸리남로 포장용 플라스틱 ...  "
      ]
     },
     "execution_count": 85,
     "metadata": {},
     "output_type": "execute_result"
    }
   ],
   "source": [
    "cols = ['사업장명', '사업자번호', '도로명주소','업종코드명']\n",
    "alldata['key'] = alldata[cols].apply(lambda row: ' '.join(row.values.astype(str)), axis=1)\n",
    "alldata.head()"
   ]
  },
  {
   "cell_type": "code",
   "execution_count": 86,
   "id": "69ecd828-119a-41cb-9e19-7f5783c74145",
   "metadata": {},
   "outputs": [
    {
     "data": {
      "text/plain": [
       "(주)니프코코리아 211814 충청남도 아산시 둔포면 아산밸리남로 포장용 플라스틱 성형용기 제조업    10\n",
       "농업회사법인주식회사에이원컴퍼니 421810 강원도 원주시 문막읍 문막공단길 상품 종합 도매업       10\n",
       "대성재가장애인복지센터 126822 부산광역시 해운대구 선수촌로 BIZ_NO미존재사업장           10\n",
       "(주)더비엔 407860 서울특별시 마포구 마포대로 데이터베이스 및 온라인 정보 제공업          10\n",
       "주식회사에이스테크 153810 충청남도 서산시 지곡면 충의로 포장용 플라스틱 성형용기 제조업       10\n",
       "                                                          ..\n",
       "용해신용협동조합 411820 전라남도 목포시 연산백련로1번길 신용조합                    10\n",
       "오륜기업(주) 417810 전라남도 여수시 대통2길 기타                           10\n",
       "주식회사 포에이스 416810 전라남도 광양시 길호1길 그 외 기타 1차 철강 제조업           10\n",
       "(주)남광포리마 416810 경상북도 포항시 남구 철강로 산업용 그 외 비경화 고무제품 제조업      10\n",
       "예천군가족센터 512820 경상북도 예천군 예천읍 충효로 BIZ_NO미존재사업장              10\n",
       "Name: key, Length: 354585, dtype: int64"
      ]
     },
     "execution_count": 86,
     "metadata": {},
     "output_type": "execute_result"
    }
   ],
   "source": [
    "alldata['key'].value_counts()"
   ]
  },
  {
   "cell_type": "code",
   "execution_count": 87,
   "id": "26d5dbe3-98dc-47e9-8638-e192ea0ed27c",
   "metadata": {},
   "outputs": [
    {
     "data": {
      "text/html": [
       "<div>\n",
       "<style scoped>\n",
       "    .dataframe tbody tr th:only-of-type {\n",
       "        vertical-align: middle;\n",
       "    }\n",
       "\n",
       "    .dataframe tbody tr th {\n",
       "        vertical-align: top;\n",
       "    }\n",
       "\n",
       "    .dataframe thead th {\n",
       "        text-align: right;\n",
       "    }\n",
       "</style>\n",
       "<table border=\"1\" class=\"dataframe\">\n",
       "  <thead>\n",
       "    <tr style=\"text-align: right;\">\n",
       "      <th></th>\n",
       "      <th>자료생성년월</th>\n",
       "      <th>사업장명</th>\n",
       "      <th>사업자번호</th>\n",
       "      <th>도로명주소</th>\n",
       "      <th>업종코드명</th>\n",
       "      <th>가입자수</th>\n",
       "      <th>신규</th>\n",
       "      <th>상실</th>\n",
       "      <th>평균월급</th>\n",
       "      <th>평균연봉</th>\n",
       "      <th>key</th>\n",
       "    </tr>\n",
       "  </thead>\n",
       "  <tbody>\n",
       "    <tr>\n",
       "      <th>0</th>\n",
       "      <td>1</td>\n",
       "      <td>(주)니프코코리아</td>\n",
       "      <td>211814</td>\n",
       "      <td>충청남도 아산시 둔포면 아산밸리남로</td>\n",
       "      <td>포장용 플라스틱 성형용기 제조업</td>\n",
       "      <td>597</td>\n",
       "      <td>1</td>\n",
       "      <td>6</td>\n",
       "      <td>501</td>\n",
       "      <td>6007</td>\n",
       "      <td>(주)니프코코리아 211814 충청남도 아산시 둔포면 아산밸리남로 포장용 플라스틱 ...</td>\n",
       "    </tr>\n",
       "    <tr>\n",
       "      <th>1</th>\n",
       "      <td>2</td>\n",
       "      <td>(주)니프코코리아</td>\n",
       "      <td>211814</td>\n",
       "      <td>충청남도 아산시 둔포면 아산밸리남로</td>\n",
       "      <td>포장용 플라스틱 성형용기 제조업</td>\n",
       "      <td>593</td>\n",
       "      <td>2</td>\n",
       "      <td>8</td>\n",
       "      <td>501</td>\n",
       "      <td>6008</td>\n",
       "      <td>(주)니프코코리아 211814 충청남도 아산시 둔포면 아산밸리남로 포장용 플라스틱 ...</td>\n",
       "    </tr>\n",
       "    <tr>\n",
       "      <th>2</th>\n",
       "      <td>3</td>\n",
       "      <td>(주)니프코코리아</td>\n",
       "      <td>211814</td>\n",
       "      <td>충청남도 아산시 둔포면 아산밸리남로</td>\n",
       "      <td>포장용 플라스틱 성형용기 제조업</td>\n",
       "      <td>590</td>\n",
       "      <td>5</td>\n",
       "      <td>7</td>\n",
       "      <td>500</td>\n",
       "      <td>6005</td>\n",
       "      <td>(주)니프코코리아 211814 충청남도 아산시 둔포면 아산밸리남로 포장용 플라스틱 ...</td>\n",
       "    </tr>\n",
       "    <tr>\n",
       "      <th>3</th>\n",
       "      <td>4</td>\n",
       "      <td>(주)니프코코리아</td>\n",
       "      <td>211814</td>\n",
       "      <td>충청남도 아산시 둔포면 아산밸리남로</td>\n",
       "      <td>포장용 플라스틱 성형용기 제조업</td>\n",
       "      <td>588</td>\n",
       "      <td>5</td>\n",
       "      <td>6</td>\n",
       "      <td>500</td>\n",
       "      <td>6004</td>\n",
       "      <td>(주)니프코코리아 211814 충청남도 아산시 둔포면 아산밸리남로 포장용 플라스틱 ...</td>\n",
       "    </tr>\n",
       "    <tr>\n",
       "      <th>4</th>\n",
       "      <td>5</td>\n",
       "      <td>(주)니프코코리아</td>\n",
       "      <td>211814</td>\n",
       "      <td>충청남도 아산시 둔포면 아산밸리남로</td>\n",
       "      <td>포장용 플라스틱 성형용기 제조업</td>\n",
       "      <td>584</td>\n",
       "      <td>2</td>\n",
       "      <td>4</td>\n",
       "      <td>500</td>\n",
       "      <td>6000</td>\n",
       "      <td>(주)니프코코리아 211814 충청남도 아산시 둔포면 아산밸리남로 포장용 플라스틱 ...</td>\n",
       "    </tr>\n",
       "  </tbody>\n",
       "</table>\n",
       "</div>"
      ],
      "text/plain": [
       "   자료생성년월       사업장명   사업자번호                도로명주소              업종코드명  가입자수  \\\n",
       "0       1  (주)니프코코리아  211814  충청남도 아산시 둔포면 아산밸리남로  포장용 플라스틱 성형용기 제조업   597   \n",
       "1       2  (주)니프코코리아  211814  충청남도 아산시 둔포면 아산밸리남로  포장용 플라스틱 성형용기 제조업   593   \n",
       "2       3  (주)니프코코리아  211814  충청남도 아산시 둔포면 아산밸리남로  포장용 플라스틱 성형용기 제조업   590   \n",
       "3       4  (주)니프코코리아  211814  충청남도 아산시 둔포면 아산밸리남로  포장용 플라스틱 성형용기 제조업   588   \n",
       "4       5  (주)니프코코리아  211814  충청남도 아산시 둔포면 아산밸리남로  포장용 플라스틱 성형용기 제조업   584   \n",
       "\n",
       "   신규  상실  평균월급  평균연봉                                                key  \n",
       "0   1   6   501  6007  (주)니프코코리아 211814 충청남도 아산시 둔포면 아산밸리남로 포장용 플라스틱 ...  \n",
       "1   2   8   501  6008  (주)니프코코리아 211814 충청남도 아산시 둔포면 아산밸리남로 포장용 플라스틱 ...  \n",
       "2   5   7   500  6005  (주)니프코코리아 211814 충청남도 아산시 둔포면 아산밸리남로 포장용 플라스틱 ...  \n",
       "3   5   6   500  6004  (주)니프코코리아 211814 충청남도 아산시 둔포면 아산밸리남로 포장용 플라스틱 ...  \n",
       "4   2   4   500  6000  (주)니프코코리아 211814 충청남도 아산시 둔포면 아산밸리남로 포장용 플라스틱 ...  "
      ]
     },
     "execution_count": 87,
     "metadata": {},
     "output_type": "execute_result"
    }
   ],
   "source": [
    "alldata.head()"
   ]
  },
  {
   "cell_type": "code",
   "execution_count": 202,
   "id": "b76e6a7d-025c-468b-a172-ea145b7792af",
   "metadata": {
    "tags": []
   },
   "outputs": [
    {
     "name": "stdin",
     "output_type": "stream",
     "text": [
      "key값 입력:  (주)니프코코리아 211814 충청남도 아산시 둔포면 아산밸리남로 포장용 플라스틱 성형용기 제조업\n"
     ]
    },
    {
     "data": {
      "image/png": "[encoded data removed]",
      "text/plain": [
       "<Figure size 1500x500 with 2 Axes>"
      ]
     },
     "metadata": {},
     "output_type": "display_data"
    }
   ],
   "source": [
    "sns.set(font=\"Malgun Gothic\", \n",
    "        rc={\"axes.unicode_minus\":False},\n",
    "        style='whitegrid')\n",
    "\n",
    "fig = plt.figure(figsize=(15, 5))\n",
    "\n",
    "area01 = fig.add_subplot(1, 2, 1)\n",
    "area02 = fig.add_subplot(1, 2, 2)\n",
    "\n",
    "a = input(\"key값 입력: \")\n",
    "ax1 = sns.barplot(x = alldata.loc[alldata['key'] == a][\"자료생성년월\"], y = alldata.loc[alldata['key'] == a][\"평균월급\"], \n",
    "            hue = alldata.loc[alldata['key'] == a]['사업장명'], palette='pastel', ax=area01)\n",
    "\n",
    "ax2 = sns.barplot(x = alldata.loc[alldata['key'] == a][\"자료생성년월\"], y = alldata.loc[alldata['key'] == a][\"평균연봉\"], \n",
    "            hue = alldata.loc[alldata['key'] == a]['사업장명'], palette='Set3', ax=area02)\n",
    "\n",
    "for p in ax1.patches:\n",
    "    height = p.get_height()\n",
    "    ax1.text(p.get_x() + p.get_width() / 2., height + 3, height, ha = 'center', size = 9)\n",
    "\n",
    "for p in ax2.patches:\n",
    "    height = p.get_height()\n",
    "    ax2.text(p.get_x() + p.get_width() / 2., height + 3, height, ha = 'center', size = 9)\n",
    "\n",
    "ax1.legend(loc = 4, bbox_to_anchor = (1,1))\n",
    "ax2.legend(loc = 4, bbox_to_anchor = (1,1))\n",
    "plt.show()"
   ]
  },
  {
   "cell_type": "markdown",
   "id": "32c45b74-a2dd-4f21-b442-8f48cac47e58",
   "metadata": {},
   "source": [
    "## 고유 key값 인코딩"
   ]
  },
  {
   "cell_type": "code",
   "execution_count": 86,
   "id": "d0ff76d9-c790-4729-85c7-989883c44e11",
   "metadata": {},
   "outputs": [],
   "source": [
    "enc_classes = {} \n",
    "def encoding_label(x):   # x: 범주형 타입의 컬럼(Series)\n",
    "    le = LabelEncoder()\n",
    "    le.fit(x)\n",
    "    label = le.transform(x)\n",
    "    enc_classes[x.name] = le.classes_   # x.name: 컬럼명\n",
    "    return label"
   ]
  },
  {
   "cell_type": "code",
   "execution_count": 87,
   "id": "a48cf041-b1dc-4b0a-8b02-c7b81c15bb1a",
   "metadata": {},
   "outputs": [],
   "source": [
    "encoding_columns = ['key']"
   ]
  },
  {
   "cell_type": "code",
   "execution_count": 88,
   "id": "665ca234-0b75-4753-a475-d2b7ad8069c7",
   "metadata": {},
   "outputs": [],
   "source": [
    "final_data['key'] = alldata[encoding_columns].apply(encoding_label)"
   ]
  },
  {
   "cell_type": "code",
   "execution_count": 89,
   "id": "02136612-f9ac-4eeb-9ee5-cb6cef845327",
   "metadata": {},
   "outputs": [
    {
     "data": {
      "text/html": [
       "<div>\n",
       "<style scoped>\n",
       "    .dataframe tbody tr th:only-of-type {\n",
       "        vertical-align: middle;\n",
       "    }\n",
       "\n",
       "    .dataframe tbody tr th {\n",
       "        vertical-align: top;\n",
       "    }\n",
       "\n",
       "    .dataframe thead th {\n",
       "        text-align: right;\n",
       "    }\n",
       "</style>\n",
       "<table border=\"1\" class=\"dataframe\">\n",
       "  <thead>\n",
       "    <tr style=\"text-align: right;\">\n",
       "      <th></th>\n",
       "      <th>사업장명</th>\n",
       "      <th>사업자번호</th>\n",
       "      <th>도로명주소</th>\n",
       "      <th>업종코드명</th>\n",
       "      <th>11월 퇴직자 수</th>\n",
       "      <th>key</th>\n",
       "    </tr>\n",
       "  </thead>\n",
       "  <tbody>\n",
       "    <tr>\n",
       "      <th>9</th>\n",
       "      <td>(주)니프코코리아</td>\n",
       "      <td>211814</td>\n",
       "      <td>충청남도 아산시 둔포면 아산밸리남로</td>\n",
       "      <td>포장용 플라스틱 성형용기 제조업</td>\n",
       "      <td>1</td>\n",
       "      <td>14336</td>\n",
       "    </tr>\n",
       "    <tr>\n",
       "      <th>19</th>\n",
       "      <td>신일기업(주)</td>\n",
       "      <td>201810</td>\n",
       "      <td>서울특별시 중구 퇴계로</td>\n",
       "      <td>기타</td>\n",
       "      <td>0</td>\n",
       "      <td>163760</td>\n",
       "    </tr>\n",
       "    <tr>\n",
       "      <th>29</th>\n",
       "      <td>(주)헤럴드</td>\n",
       "      <td>104810</td>\n",
       "      <td>서울특별시 용산구 후암로4길</td>\n",
       "      <td>잡지 및 정기 간행물 발행업</td>\n",
       "      <td>5</td>\n",
       "      <td>84480</td>\n",
       "    </tr>\n",
       "    <tr>\n",
       "      <th>39</th>\n",
       "      <td>연합뉴스(주)</td>\n",
       "      <td>102812</td>\n",
       "      <td>서울특별시 종로구 율곡로2길</td>\n",
       "      <td>잡지 및 정기 간행물 발행업</td>\n",
       "      <td>7</td>\n",
       "      <td>175921</td>\n",
       "    </tr>\n",
       "    <tr>\n",
       "      <th>49</th>\n",
       "      <td>협성해운(주)</td>\n",
       "      <td>202814</td>\n",
       "      <td>서울특별시 중구 을지로</td>\n",
       "      <td>내륙 수상 여객 및 화물 운송업</td>\n",
       "      <td>0</td>\n",
       "      <td>331992</td>\n",
       "    </tr>\n",
       "  </tbody>\n",
       "</table>\n",
       "</div>"
      ],
      "text/plain": [
       "         사업장명   사업자번호                도로명주소              업종코드명  11월 퇴직자 수  \\\n",
       "9   (주)니프코코리아  211814  충청남도 아산시 둔포면 아산밸리남로  포장용 플라스틱 성형용기 제조업          1   \n",
       "19    신일기업(주)  201810         서울특별시 중구 퇴계로                 기타          0   \n",
       "29     (주)헤럴드  104810      서울특별시 용산구 후암로4길    잡지 및 정기 간행물 발행업          5   \n",
       "39    연합뉴스(주)  102812      서울특별시 종로구 율곡로2길    잡지 및 정기 간행물 발행업          7   \n",
       "49    협성해운(주)  202814         서울특별시 중구 을지로  내륙 수상 여객 및 화물 운송업          0   \n",
       "\n",
       "       key  \n",
       "9    14336  \n",
       "19  163760  \n",
       "29   84480  \n",
       "39  175921  \n",
       "49  331992  "
      ]
     },
     "execution_count": 89,
     "metadata": {},
     "output_type": "execute_result"
    }
   ],
   "source": [
    "final_data.head()"
   ]
  },
  {
   "cell_type": "code",
   "execution_count": 90,
   "id": "e4edaaaa-cd32-4a1c-a45e-05a0c4cc685a",
   "metadata": {},
   "outputs": [],
   "source": [
    "alldata['key'] = alldata[encoding_columns].apply(encoding_label)"
   ]
  },
  {
   "cell_type": "code",
   "execution_count": 91,
   "id": "cd2e22a9-56df-4e1b-87a7-70b845f79ec6",
   "metadata": {},
   "outputs": [
    {
     "data": {
      "text/html": [
       "<div>\n",
       "<style scoped>\n",
       "    .dataframe tbody tr th:only-of-type {\n",
       "        vertical-align: middle;\n",
       "    }\n",
       "\n",
       "    .dataframe tbody tr th {\n",
       "        vertical-align: top;\n",
       "    }\n",
       "\n",
       "    .dataframe thead th {\n",
       "        text-align: right;\n",
       "    }\n",
       "</style>\n",
       "<table border=\"1\" class=\"dataframe\">\n",
       "  <thead>\n",
       "    <tr style=\"text-align: right;\">\n",
       "      <th></th>\n",
       "      <th>자료생성년월</th>\n",
       "      <th>사업장명</th>\n",
       "      <th>사업자번호</th>\n",
       "      <th>도로명주소</th>\n",
       "      <th>업종코드명</th>\n",
       "      <th>가입자수</th>\n",
       "      <th>신규</th>\n",
       "      <th>상실</th>\n",
       "      <th>평균월급</th>\n",
       "      <th>평균연봉</th>\n",
       "      <th>key</th>\n",
       "    </tr>\n",
       "  </thead>\n",
       "  <tbody>\n",
       "    <tr>\n",
       "      <th>0</th>\n",
       "      <td>1</td>\n",
       "      <td>(주)니프코코리아</td>\n",
       "      <td>211814</td>\n",
       "      <td>충청남도 아산시 둔포면 아산밸리남로</td>\n",
       "      <td>포장용 플라스틱 성형용기 제조업</td>\n",
       "      <td>597</td>\n",
       "      <td>1</td>\n",
       "      <td>6</td>\n",
       "      <td>501</td>\n",
       "      <td>6007</td>\n",
       "      <td>14336</td>\n",
       "    </tr>\n",
       "    <tr>\n",
       "      <th>1</th>\n",
       "      <td>2</td>\n",
       "      <td>(주)니프코코리아</td>\n",
       "      <td>211814</td>\n",
       "      <td>충청남도 아산시 둔포면 아산밸리남로</td>\n",
       "      <td>포장용 플라스틱 성형용기 제조업</td>\n",
       "      <td>593</td>\n",
       "      <td>2</td>\n",
       "      <td>8</td>\n",
       "      <td>501</td>\n",
       "      <td>6008</td>\n",
       "      <td>14336</td>\n",
       "    </tr>\n",
       "    <tr>\n",
       "      <th>2</th>\n",
       "      <td>3</td>\n",
       "      <td>(주)니프코코리아</td>\n",
       "      <td>211814</td>\n",
       "      <td>충청남도 아산시 둔포면 아산밸리남로</td>\n",
       "      <td>포장용 플라스틱 성형용기 제조업</td>\n",
       "      <td>590</td>\n",
       "      <td>5</td>\n",
       "      <td>7</td>\n",
       "      <td>500</td>\n",
       "      <td>6005</td>\n",
       "      <td>14336</td>\n",
       "    </tr>\n",
       "    <tr>\n",
       "      <th>3</th>\n",
       "      <td>4</td>\n",
       "      <td>(주)니프코코리아</td>\n",
       "      <td>211814</td>\n",
       "      <td>충청남도 아산시 둔포면 아산밸리남로</td>\n",
       "      <td>포장용 플라스틱 성형용기 제조업</td>\n",
       "      <td>588</td>\n",
       "      <td>5</td>\n",
       "      <td>6</td>\n",
       "      <td>500</td>\n",
       "      <td>6004</td>\n",
       "      <td>14336</td>\n",
       "    </tr>\n",
       "    <tr>\n",
       "      <th>4</th>\n",
       "      <td>5</td>\n",
       "      <td>(주)니프코코리아</td>\n",
       "      <td>211814</td>\n",
       "      <td>충청남도 아산시 둔포면 아산밸리남로</td>\n",
       "      <td>포장용 플라스틱 성형용기 제조업</td>\n",
       "      <td>584</td>\n",
       "      <td>2</td>\n",
       "      <td>4</td>\n",
       "      <td>500</td>\n",
       "      <td>6000</td>\n",
       "      <td>14336</td>\n",
       "    </tr>\n",
       "  </tbody>\n",
       "</table>\n",
       "</div>"
      ],
      "text/plain": [
       "   자료생성년월       사업장명   사업자번호                도로명주소              업종코드명  가입자수  \\\n",
       "0       1  (주)니프코코리아  211814  충청남도 아산시 둔포면 아산밸리남로  포장용 플라스틱 성형용기 제조업   597   \n",
       "1       2  (주)니프코코리아  211814  충청남도 아산시 둔포면 아산밸리남로  포장용 플라스틱 성형용기 제조업   593   \n",
       "2       3  (주)니프코코리아  211814  충청남도 아산시 둔포면 아산밸리남로  포장용 플라스틱 성형용기 제조업   590   \n",
       "3       4  (주)니프코코리아  211814  충청남도 아산시 둔포면 아산밸리남로  포장용 플라스틱 성형용기 제조업   588   \n",
       "4       5  (주)니프코코리아  211814  충청남도 아산시 둔포면 아산밸리남로  포장용 플라스틱 성형용기 제조업   584   \n",
       "\n",
       "   신규  상실  평균월급  평균연봉    key  \n",
       "0   1   6   501  6007  14336  \n",
       "1   2   8   501  6008  14336  \n",
       "2   5   7   500  6005  14336  \n",
       "3   5   6   500  6004  14336  \n",
       "4   2   4   500  6000  14336  "
      ]
     },
     "execution_count": 91,
     "metadata": {},
     "output_type": "execute_result"
    }
   ],
   "source": [
    "alldata.head()"
   ]
  },
  {
   "cell_type": "code",
   "execution_count": 92,
   "id": "7e3558c6-2acc-4468-9842-a04283345a91",
   "metadata": {},
   "outputs": [],
   "source": [
    "import openpyxl"
   ]
  },
  {
   "cell_type": "code",
   "execution_count": 93,
   "id": "ed6c155b-7702-4b69-aed5-13a66761654e",
   "metadata": {},
   "outputs": [],
   "source": [
    "alldata.to_csv(\"alldata.csv\",encoding='euc-kr')\n",
    "final_data.to_csv(\"data.csv\",encoding='euc-kr')"
   ]
  }
 ],
 "metadata": {
  "kernelspec": {
   "display_name": "geopandas",
   "language": "python",
   "name": "geopandas"
  },
  "language_info": {
   "codemirror_mode": {
    "name": "ipython",
    "version": 3
   },
   "file_extension": ".py",
   "mimetype": "text/x-python",
   "name": "python",
   "nbconvert_exporter": "python",
   "pygments_lexer": "ipython3",
   "version": "3.9.15"
  }
 },
 "nbformat": 4,
 "nbformat_minor": 5
}
